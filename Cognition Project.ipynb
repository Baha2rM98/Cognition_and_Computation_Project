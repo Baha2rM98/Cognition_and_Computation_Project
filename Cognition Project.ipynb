{
 "metadata": {
  "kernelspec": {
   "name": "python3",
   "display_name": "Python 3",
   "language": "python"
  },
  "language_info": {
   "name": "python",
   "version": "3.7.12",
   "mimetype": "text/x-python",
   "codemirror_mode": {
    "name": "ipython",
    "version": 3
   },
   "pygments_lexer": "ipython3",
   "nbconvert_exporter": "python",
   "file_extension": ".py"
  },
  "colab": {
   "provenance": []
  },
  "gpuClass": "premium",
  "accelerator": "GPU"
 },
 "nbformat_minor": 5,
 "nbformat": 4,
 "cells": [
  {
   "cell_type": "markdown",
   "source": [
    "# BAHADOR MIRZAZADEH - STUDENT ID: 2071962 - DATE: 22/02/2023"
   ],
   "metadata": {
    "id": "RRmtqqRxpvN8"
   },
   "id": "RRmtqqRxpvN8"
  },
  {
   "cell_type": "markdown",
   "source": [
    "## Importing implementation of DBN in pytorch"
   ],
   "metadata": {
    "id": "sLnJb0CAXgQx"
   },
   "id": "sLnJb0CAXgQx"
  },
  {
   "cell_type": "markdown",
   "source": [
    "A Deep Belief Network (DBN) is an artificial neural network that is composed of multiple layers of hidden units. It is trained using a pre-training phase, which involves training each layer of the DBN one at a time using a restricted Boltzmann machine (RBM), and a fine-tuning phase, which involves training the entire network using backpropagation. The mathematical parts of a DBN involve the use of RBMs and the training algorithms used to pre-train and fine-tune the network.\n",
    "\n",
    "\n",
    "The mathematical parts of a DBN involve the use of RBMs and the training algorithms used to pre-train and fine-tune the network. An RBM is a type of energy-based model that models the joint probability distribution of the visible and hidden units using an energy function. The energy function is defined as:\n",
    "\n",
    "$$E(v, h) = -\\sum_{i \\in \\text{visible}} b_i v_i - \\sum_{j \\in \\text{hidden}} a_j h_j - \\sum_{i \\in \\text{visible}} \\sum_{j \\in \\text{hidden}} v_i w_{ij} h_j$$\n",
    "\n",
    "where:\n",
    "- v is the vector of visible units,\n",
    "- h is the vector of hidden units,\n",
    "- b_i is the bias term associated with the i-th visible unit,\n",
    "- a_j is the bias term associated with the j-th hidden unit,\n",
    "- w_ij is the weight between the i-th visible unit and the j-th hidden unit.\n",
    "\n",
    "\n",
    "The energy function assigns a scalar value to each possible configuration of visible and hidden units. The probability of a configuration (v, h) is given by the Boltzmann distribution:\n",
    "\n",
    "$$p(v, h) = \\frac{1}{Z} e^{-E(v,h)}$$\n",
    "\n",
    "where\n",
    "\n",
    "$$Z = \\sum_{v,h} e^{-E(v,h)}$$\n",
    "\n",
    "where Z is the partition function, which normalizes the distribution so that the sum of probabilities over all configurations is 1."
   ],
   "metadata": {
    "id": "91Ys6CUxQebT"
   },
   "id": "91Ys6CUxQebT"
  },
  {
   "cell_type": "code",
   "source": [
    "def get_dbn_library():\n",
    "    files = [\"DBN.py\", \"RBM.py\"]\n",
    "    repository_url = \"https://raw.githubusercontent.com/flavio2018/Deep-Belief-Network-pytorch/master/\"\n",
    "    for file in files:\n",
    "        !wget -O {file} {repository_url}{file}"
   ],
   "metadata": {
    "id": "6ba8f0e3",
    "execution": {
     "iopub.status.busy": "2023-02-22T19:22:22.589583Z",
     "iopub.execute_input": "2023-02-22T19:22:22.590059Z",
     "iopub.status.idle": "2023-02-22T19:22:22.621221Z",
     "shell.execute_reply.started": "2023-02-22T19:22:22.589975Z",
     "shell.execute_reply": "2023-02-22T19:22:22.620306Z"
    },
    "trusted": true
   },
   "execution_count": 1,
   "outputs": [],
   "id": "6ba8f0e3"
  },
  {
   "cell_type": "code",
   "source": [
    "%%capture\n",
    "get_dbn_library()"
   ],
   "metadata": {
    "id": "27d30fbe",
    "execution": {
     "iopub.status.busy": "2023-02-22T19:22:26.005639Z",
     "iopub.execute_input": "2023-02-22T19:22:26.005988Z",
     "iopub.status.idle": "2023-02-22T19:22:28.720066Z",
     "shell.execute_reply.started": "2023-02-22T19:22:26.005959Z",
     "shell.execute_reply": "2023-02-22T19:22:28.718760Z"
    },
    "trusted": true
   },
   "execution_count": 2,
   "outputs": [],
   "id": "27d30fbe"
  },
  {
   "cell_type": "markdown",
   "source": [
    "## Importing required libraries"
   ],
   "metadata": {
    "id": "EPkf4BErqD4r"
   },
   "id": "EPkf4BErqD4r"
  },
  {
   "cell_type": "code",
   "source": [
    "import math\n",
    "import random\n",
    "import pylab\n",
    "import matplotlib.pyplot as plt\n",
    "import numpy as np\n",
    "import pandas as pd\n",
    "import torch\n",
    "import seaborn as sn\n",
    "import torchvision as tv\n",
    "import torchvision.transforms as transforms\n",
    "import torch.optim as optim\n",
    "import time\n",
    "import scipy.cluster as cluster\n",
    "import torch.nn as nn\n",
    "\n",
    "torch.set_printoptions(linewidth=120)\n",
    "from DBN import DBN\n",
    "from tqdm import tqdm\n",
    "from scipy.stats import norm\n",
    "from sklearn.preprocessing import MinMaxScaler\n",
    "from sklearn.metrics import confusion_matrix, classification_report"
   ],
   "metadata": {
    "id": "29329856",
    "execution": {
     "iopub.status.busy": "2023-02-22T19:22:32.372507Z",
     "iopub.execute_input": "2023-02-22T19:22:32.372896Z",
     "iopub.status.idle": "2023-02-22T19:22:34.696663Z",
     "shell.execute_reply.started": "2023-02-22T19:22:32.372860Z",
     "shell.execute_reply": "2023-02-22T19:22:34.695672Z"
    },
    "trusted": true
   },
   "execution_count": 3,
   "outputs": [],
   "id": "29329856"
  },
  {
   "cell_type": "markdown",
   "source": [
    "GPUs are better suited for training machine learning models than CPUs because they have parallel processing capabilities, high memory capacity, and more cores, allowing for faster model training. Additionally, using GPUs is cost-effective compared to using multiple CPUs as a single high-end GPU can perform the same amount of work as multiple CPUs at a lower cost. To summarize, GPUs are more efficient and cost-effective for training machine learning models compared to CPUs."
   ],
   "metadata": {
    "id": "d0DsSOpS33hO"
   },
   "id": "d0DsSOpS33hO"
  },
  {
   "cell_type": "code",
   "source": [
    "# Checks if a CUDA-enabled \n",
    "print(torch.cuda.is_available())\n",
    "# If a CUDA-enabled GPU is available, the device is set to \"cuda\", otherwise it is set to \"cpu\".\n",
    "device = torch.device(\"cuda\") if torch.cuda.is_available() else torch.device(\"cpu\")"
   ],
   "metadata": {
    "colab": {
     "base_uri": "https://localhost:8080/"
    },
    "id": "24d2b7f1",
    "outputId": "bab3aa5a-ab27-470f-eefa-bc235f3af01e",
    "execution": {
     "iopub.status.busy": "2023-02-22T19:22:47.180683Z",
     "iopub.execute_input": "2023-02-22T19:22:47.181312Z",
     "iopub.status.idle": "2023-02-22T19:22:47.187941Z",
     "shell.execute_reply.started": "2023-02-22T19:22:47.181279Z",
     "shell.execute_reply": "2023-02-22T19:22:47.186608Z"
    },
    "trusted": true
   },
   "execution_count": 4,
   "outputs": [
    {
     "output_type": "stream",
     "name": "stdout",
     "text": [
      "True\n"
     ]
    }
   ],
   "id": "24d2b7f1"
  },
  {
   "cell_type": "markdown",
   "source": [
    "## Loading data and Visualizing\n",
    "\n",
    "Fashion-MNIST is a dataset of Zalando's article images—consisting of a training set of 60,000 examples and a test set of 10,000 examples. Each example is a 28x28 grayscale image, associated with a label from 10 classes: T-shirt/top, Trouser, Pullover, Dress, Coat, Sandal, Shirt, Sneaker, Bag, Ankle Boot. The dataset serves as a more challenging replacement for the MNIST dataset, which is widely used as a beginner's dataset for machine learning and computer vision algorithms.\n",
    "\n",
    "Here we load the dataset(FashionMNIST) and randomly visualize some of the data to ensure that everything works fine."
   ],
   "metadata": {
    "id": "3X--0mJMcwMk"
   },
   "id": "3X--0mJMcwMk"
  },
  {
   "cell_type": "code",
   "source": [
    "%%capture\n",
    "FashionMNIST_train = tv.datasets.FashionMNIST('data/', train=True, download=True,\n",
    "                                              transform=tv.transforms.Compose(\n",
    "                                                  [tv.transforms.ToTensor()]))\n",
    "\n",
    "FashionMNIST_test = tv.datasets.FashionMNIST('data/', train=False, download=True,\n",
    "                                             transform=tv.transforms.Compose(\n",
    "                                                 [tv.transforms.ToTensor()]))"
   ],
   "metadata": {
    "id": "76ec2b0c",
    "execution": {
     "iopub.status.busy": "2023-02-22T19:22:50.781756Z",
     "iopub.execute_input": "2023-02-22T19:22:50.782121Z",
     "iopub.status.idle": "2023-02-22T19:22:53.239894Z",
     "shell.execute_reply.started": "2023-02-22T19:22:50.782092Z",
     "shell.execute_reply": "2023-02-22T19:22:53.238740Z"
    },
    "trusted": true
   },
   "execution_count": 5,
   "outputs": [],
   "id": "76ec2b0c"
  },
  {
   "cell_type": "code",
   "source": [
    "data_loader = torch.utils.data.DataLoader(FashionMNIST_train, batch_size=10, shuffle=True)\n",
    "sample = next(iter(data_loader))\n",
    "imgs, lbls = sample"
   ],
   "metadata": {
    "id": "GvYTotqYwwAj",
    "execution": {
     "iopub.status.busy": "2023-02-22T19:22:54.450863Z",
     "iopub.execute_input": "2023-02-22T19:22:54.451215Z",
     "iopub.status.idle": "2023-02-22T19:22:54.495212Z",
     "shell.execute_reply.started": "2023-02-22T19:22:54.451184Z",
     "shell.execute_reply": "2023-02-22T19:22:54.494290Z"
    },
    "trusted": true
   },
   "execution_count": 6,
   "outputs": [],
   "id": "GvYTotqYwwAj"
  },
  {
   "cell_type": "code",
   "source": [
    "plt.figure(figsize=(15, 10))\n",
    "grid = tv.utils.make_grid(nrow=20, tensor=imgs)\n",
    "print(f\"image tensor: {imgs.shape}\")\n",
    "print(f\"class labels: {lbls}\")\n",
    "plt.imshow(np.transpose(grid, axes=(1, 2, 0)), cmap='gray')"
   ],
   "metadata": {
    "colab": {
     "base_uri": "https://localhost:8080/",
     "height": 191
    },
    "id": "babfd32b",
    "outputId": "5d7a2f12-eab8-4a0e-93b2-c00eab59fb86",
    "execution": {
     "iopub.status.busy": "2023-02-22T19:23:05.903172Z",
     "iopub.execute_input": "2023-02-22T19:23:05.903758Z",
     "iopub.status.idle": "2023-02-22T19:23:06.327359Z",
     "shell.execute_reply.started": "2023-02-22T19:23:05.903713Z",
     "shell.execute_reply": "2023-02-22T19:23:06.326096Z"
    },
    "trusted": true
   },
   "execution_count": 7,
   "outputs": [
    {
     "output_type": "stream",
     "name": "stdout",
     "text": [
      "image tensor: torch.Size([10, 1, 28, 28])\n",
      "class labels: tensor([8, 9, 9, 0, 3, 3, 9, 9, 3, 2])\n"
     ]
    },
    {
     "output_type": "execute_result",
     "data": {
      "text/plain": [
       "<matplotlib.image.AxesImage at 0x7f83a2c86f10>"
      ]
     },
     "metadata": {},
     "execution_count": 7
    },
    {
     "output_type": "display_data",
     "data": {
      "text/plain": [
       "<Figure size 1080x720 with 1 Axes>"
      ],
      "image/png": "[encoded data removed]"
     },
     "metadata": {
      "needs_background": "light"
     }
    }
   ],
   "id": "babfd32b"
  },
  {
   "cell_type": "markdown",
   "source": [
    "## Rescaling the dataset\n",
    "\n",
    "We have to decide how to rescale our dataset. we have Two options available: Standardization and Normalization. If our data points follow the gaussian (normal) distribution we should use standardization otherwise, normalization works better.\n",
    "\n",
    "The histogram provides a visual representation of the distribution of the values in the data, which can help to identify patterns and outliers. By visualizing the data in this way, the user can gain a better understanding of the data and make informed decisions about preprocessing steps."
   ],
   "metadata": {
    "id": "eddcfSpsrJmJ"
   },
   "id": "eddcfSpsrJmJ"
  },
  {
   "cell_type": "code",
   "source": [
    "# Converting our dataset to numpy array\n",
    "\n",
    "X_train = FashionMNIST_train.data.numpy()\n",
    "X_test = FashionMNIST_test.data.numpy()\n",
    "y_train = FashionMNIST_train.targets.numpy()\n",
    "y_test = FashionMNIST_test.targets.numpy()\n",
    "\n",
    "X_train.shape, y_train.shape, X_test.shape, y_test.shape"
   ],
   "metadata": {
    "execution": {
     "iopub.status.busy": "2023-02-22T19:23:25.214771Z",
     "iopub.execute_input": "2023-02-22T19:23:25.215140Z",
     "iopub.status.idle": "2023-02-22T19:23:25.225895Z",
     "shell.execute_reply.started": "2023-02-22T19:23:25.215110Z",
     "shell.execute_reply": "2023-02-22T19:23:25.224656Z"
    },
    "trusted": true,
    "colab": {
     "base_uri": "https://localhost:8080/"
    },
    "id": "X3-4Lh1y33hS",
    "outputId": "c22bddb5-286b-47e1-8c7f-a26bb40372c5"
   },
   "execution_count": 8,
   "outputs": [
    {
     "output_type": "execute_result",
     "data": {
      "text/plain": [
       "((60000, 28, 28), (60000,), (10000, 28, 28), (10000,))"
      ]
     },
     "metadata": {},
     "execution_count": 8
    }
   ],
   "id": "X3-4Lh1y33hS"
  },
  {
   "cell_type": "code",
   "source": [
    "data = pd.Series(X_train.ravel())\n",
    "data.hist(color='yellow', grid=False, bins=20)"
   ],
   "metadata": {
    "execution": {
     "iopub.status.busy": "2023-02-22T19:23:28.626659Z",
     "iopub.execute_input": "2023-02-22T19:23:28.627098Z",
     "iopub.status.idle": "2023-02-22T19:23:30.023769Z",
     "shell.execute_reply.started": "2023-02-22T19:23:28.627058Z",
     "shell.execute_reply": "2023-02-22T19:23:30.014046Z"
    },
    "trusted": true,
    "colab": {
     "base_uri": "https://localhost:8080/",
     "height": 293
    },
    "id": "vdekAZLB33hS",
    "outputId": "ac202f56-6b5c-47fd-f43c-2ec7912be48e"
   },
   "execution_count": 9,
   "outputs": [
    {
     "output_type": "execute_result",
     "data": {
      "text/plain": [
       "<matplotlib.axes._subplots.AxesSubplot at 0x7f83a2bc8850>"
      ]
     },
     "metadata": {},
     "execution_count": 9
    },
    {
     "output_type": "display_data",
     "data": {
      "text/plain": [
       "<Figure size 432x288 with 1 Axes>"
      ],
      "image/png": "[encoded data removed]"
     },
     "metadata": {
      "needs_background": "light"
     }
    }
   ],
   "id": "vdekAZLB33hS"
  },
  {
   "cell_type": "markdown",
   "source": [
    "It is obvious that our dataset does not follow the gaussian (normal) distribution, so in this case, normalization works better than standardization.\n",
    "\n",
    "MinMaxScaler is a data preprocessing technique used to scale numerical features to a specific range. It scales each feature to a range between 0 and 1 by subtracting the minimum value of the feature and dividing by the range (i.e., the difference between the maximum and minimum values of the feature). This scaling is applied independently to each feature, so that each feature has a minimum value of 0 and a maximum value of 1.\n",
    "\n",
    "so I decided to use MinMaxScaler in this case."
   ],
   "metadata": {
    "id": "ibeghRqs33hT"
   },
   "id": "ibeghRqs33hT"
  },
  {
   "cell_type": "code",
   "source": [
    "scaler = MinMaxScaler()\n",
    "X_train = scaler.fit_transform(X_train.reshape(-1, X_train.shape[-1])).reshape(X_train.shape)\n",
    "X_test = scaler.transform(X_test.reshape(-1, X_test.shape[-1])).reshape(X_test.shape)"
   ],
   "metadata": {
    "execution": {
     "iopub.status.busy": "2023-02-22T19:23:33.039612Z",
     "iopub.execute_input": "2023-02-22T19:23:33.039977Z",
     "iopub.status.idle": "2023-02-22T19:23:33.610439Z",
     "shell.execute_reply.started": "2023-02-22T19:23:33.039945Z",
     "shell.execute_reply": "2023-02-22T19:23:33.609371Z"
    },
    "trusted": true,
    "id": "crJ8vajX33hT"
   },
   "execution_count": 10,
   "outputs": [],
   "id": "crJ8vajX33hT"
  },
  {
   "cell_type": "code",
   "source": [
    "data = pd.Series(X_train.ravel())\n",
    "data.hist(color='green', grid=False, bins=20)"
   ],
   "metadata": {
    "execution": {
     "iopub.status.busy": "2023-02-22T19:23:38.992250Z",
     "iopub.execute_input": "2023-02-22T19:23:38.993003Z",
     "iopub.status.idle": "2023-02-22T19:23:40.523341Z",
     "shell.execute_reply.started": "2023-02-22T19:23:38.992963Z",
     "shell.execute_reply": "2023-02-22T19:23:40.522329Z"
    },
    "trusted": true,
    "colab": {
     "base_uri": "https://localhost:8080/",
     "height": 293
    },
    "id": "X_NiN68q33hT",
    "outputId": "9ef1181f-8c3a-4e95-b888-b8eb30e51abb"
   },
   "execution_count": 11,
   "outputs": [
    {
     "output_type": "execute_result",
     "data": {
      "text/plain": [
       "<matplotlib.axes._subplots.AxesSubplot at 0x7f83a2b6d8e0>"
      ]
     },
     "metadata": {},
     "execution_count": 11
    },
    {
     "output_type": "display_data",
     "data": {
      "text/plain": [
       "<Figure size 432x288 with 1 Axes>"
      ],
      "image/png": "[encoded data removed]"
     },
     "metadata": {
      "needs_background": "light"
     }
    }
   ],
   "id": "X_NiN68q33hT"
  },
  {
   "cell_type": "markdown",
   "source": [
    "As we can see the dataset is normalized."
   ],
   "metadata": {
    "id": "WXsnbfXl33hT"
   },
   "id": "WXsnbfXl33hT"
  },
  {
   "cell_type": "markdown",
   "source": [
    "So we randomly chose 1 image and label from train set and 1 image and label from test set to plot to make sure everything works fine."
   ],
   "metadata": {
    "id": "GJgH5q2233hT"
   },
   "id": "GJgH5q2233hT"
  },
  {
   "cell_type": "code",
   "source": [
    "labeldict = {\n",
    "    0: 'T-shirt/top',\n",
    "    1: 'Trouser',\n",
    "    2: 'Pullover',\n",
    "    3: 'Dress',\n",
    "    4: 'Coat',\n",
    "    5: 'Sandal',\n",
    "    6: 'Shirt',\n",
    "    7: 'Sneaker',\n",
    "    8: 'Bag',\n",
    "    9: 'Ankle boot'\n",
    "}\n",
    "\n",
    "train_indx = random.randint(0, 5000)\n",
    "test_indx = random.randint(0, 100)\n",
    "\n",
    "plt.figure(figsize=(5, 5))\n",
    "\n",
    "plt.subplot(121)\n",
    "curr_img = np.reshape(X_train[train_indx], (28,28))\n",
    "curr_lbl = y_train[train_indx]\n",
    "plt.imshow(curr_img, cmap='gray')\n",
    "plt.title(\"(Label: \" + str(labeldict[curr_lbl]) + \")\")\n",
    "\n",
    "plt.subplot(122)\n",
    "curr_img = np.reshape(X_test[test_indx], (28,28))\n",
    "curr_lbl = y_test[test_indx]\n",
    "plt.imshow(curr_img, cmap='gray')\n",
    "plt.title(\"(Label: \" + str(labeldict[curr_lbl]) + \")\")"
   ],
   "metadata": {
    "execution": {
     "iopub.status.busy": "2023-02-22T19:23:43.701229Z",
     "iopub.execute_input": "2023-02-22T19:23:43.701597Z",
     "iopub.status.idle": "2023-02-22T19:23:43.986389Z",
     "shell.execute_reply.started": "2023-02-22T19:23:43.701565Z",
     "shell.execute_reply": "2023-02-22T19:23:43.985445Z"
    },
    "trusted": true,
    "colab": {
     "base_uri": "https://localhost:8080/",
     "height": 208
    },
    "id": "kAmVJEpH33hU",
    "outputId": "9d7d9b67-c88a-4f27-eeaa-c0177d98a6d9"
   },
   "execution_count": 12,
   "outputs": [
    {
     "output_type": "execute_result",
     "data": {
      "text/plain": [
       "Text(0.5, 1.0, '(Label: Trouser)')"
      ]
     },
     "metadata": {},
     "execution_count": 12
    },
    {
     "output_type": "display_data",
     "data": {
      "text/plain": [
       "<Figure size 360x360 with 2 Axes>"
      ],
      "image/png": "[encoded data removed]"
     },
     "metadata": {
      "needs_background": "light"
     }
    }
   ],
   "id": "kAmVJEpH33hU"
  },
  {
   "cell_type": "markdown",
   "source": [
    "Now we transform NumPy arrays to the default structure of torch tensors."
   ],
   "metadata": {
    "id": "Fsb-gc-S33hU"
   },
   "id": "Fsb-gc-S33hU"
  },
  {
   "cell_type": "code",
   "source": [
    "# Conveting numpy array to torch tensors\n",
    "FashionMNIST_train.data = torch.from_numpy(X_train.reshape(60000, 28, 28))\n",
    "FashionMNIST_test.data = torch.from_numpy(X_test.reshape(10000, 28, 28))\n",
    "FashionMNIST_train.targets = torch.from_numpy(y_train)\n",
    "FashionMNIST_test.targets = torch.from_numpy(y_test)"
   ],
   "metadata": {
    "execution": {
     "iopub.status.busy": "2023-02-22T19:23:48.624351Z",
     "iopub.execute_input": "2023-02-22T19:23:48.624742Z",
     "iopub.status.idle": "2023-02-22T19:23:48.630255Z",
     "shell.execute_reply.started": "2023-02-22T19:23:48.624711Z",
     "shell.execute_reply": "2023-02-22T19:23:48.629267Z"
    },
    "trusted": true,
    "id": "JQi9z8Rr33hU"
   },
   "execution_count": 13,
   "outputs": [],
   "id": "JQi9z8Rr33hU"
  },
  {
   "cell_type": "markdown",
   "source": [
    "## Training the model\n",
    "\n",
    "In this section, we have to design our DBN model and choose the optimal number of layers and neurons. One of the best architectures I found with some research is {First Hidden Layer: 512 Neurons, Second Hidden Layer: 256 Neurons, Third Hidden Layer: 128 Neurons}.\n",
    "\n",
    "**Reference: In the paper \"Deep Belief Networks for Fashion-MNIST Classification\", the authors proposed a DBN architecture for the Fashion-MNIST dataset.**\n",
    "\n",
    "The training of a Deep Belief Network (DBN) consists of two stages: pre-training and fine-tuning.\n",
    "\n",
    "Pre-training: This stage involves training each layer of the DBN using unsupervised learning with Restricted Boltzmann Machines (RBMs). RBMs are shallow generative models that learn to reconstruct the input data. During pre-training, each RBM learns to extract features from the input data and build a hierarchical representation of the data. This is done layer-by-layer, starting from the input layer and moving towards the deeper layers.\n",
    "\n",
    "Fine-tuning: After pre-training, the weights learned by the network are used as the initial weights for the fine-tuning stage, where the network is trained using supervised learning on a labeled dataset to perform a specific task. The network adjusts its weights to minimize the error between the predicted output and the true output.\n",
    "\n",
    "The goal of the DBN is to reduce the amount of supervised training needed and improve the performance of the network by leveraging the unsupervised pre-training stage to learn a good representation of the data. The pre-training stage allows the network to learn a hierarchical representation of the data, which is then used to initialize the network for the fine-tuning stage, making the overall training process more efficient and effective."
   ],
   "metadata": {
    "id": "Ho-Q7A6acijM"
   },
   "id": "Ho-Q7A6acijM"
  },
  {
   "cell_type": "code",
   "source": [
    "dbn_FashionMNIST = DBN(\n",
    "    visible_units=784,\n",
    "    hidden_units=[512, 256, 128],\n",
    "    k=1,\n",
    "    learning_rate=0.1,\n",
    "    learning_rate_decay=False,\n",
    "    initial_momentum=0.5,\n",
    "    final_momentum=0.9,\n",
    "    weight_decay=0.0001,\n",
    "    use_gpu=torch.cuda.is_available())"
   ],
   "metadata": {
    "id": "eB9M-HevxzZz",
    "execution": {
     "iopub.status.busy": "2023-02-22T19:23:53.355755Z",
     "iopub.execute_input": "2023-02-22T19:23:53.356117Z",
     "iopub.status.idle": "2023-02-22T19:23:55.529072Z",
     "shell.execute_reply.started": "2023-02-22T19:23:53.356087Z",
     "shell.execute_reply": "2023-02-22T19:23:55.528087Z"
    },
    "trusted": true
   },
   "execution_count": 14,
   "outputs": [],
   "id": "eB9M-HevxzZz"
  },
  {
   "cell_type": "markdown",
   "source": [
    "Then we train our DBN model with 100 epochs and batch size 32."
   ],
   "metadata": {
    "id": "U3qn1heUNjTM"
   },
   "id": "U3qn1heUNjTM"
  },
  {
   "cell_type": "code",
   "source": [
    "num_epochs = 100\n",
    "batch_size = 32\n",
    "\n",
    "dbn_FashionMNIST.train_static(\n",
    "    FashionMNIST_train.data,\n",
    "    FashionMNIST_train.targets,\n",
    "    num_epochs,\n",
    "    batch_size\n",
    ")"
   ],
   "metadata": {
    "colab": {
     "base_uri": "https://localhost:8080/"
    },
    "id": "d666e49c",
    "outputId": "777d8532-78c6-4431-94ba-8f7e8d2832dd",
    "execution": {
     "iopub.status.busy": "2023-02-22T19:23:57.169369Z",
     "iopub.execute_input": "2023-02-22T19:23:57.169757Z",
     "iopub.status.idle": "2023-02-22T19:36:58.257787Z",
     "shell.execute_reply.started": "2023-02-22T19:23:57.169725Z",
     "shell.execute_reply": "2023-02-22T19:36:58.256748Z"
    },
    "trusted": true
   },
   "execution_count": 15,
   "outputs": [
    {
     "output_type": "stream",
     "name": "stdout",
     "text": [
      "--------------------\n",
      "Training RBM layer 1\n",
      "|Epoch |avg_rec_err |std_rec_err  |mean_grad |std_grad  |\n",
      "|10    |0.5145     |0.0473       |343.2217   |8.8289     |\n",
      "|20    |0.5064     |0.0464       |334.6354   |9.3029     |\n",
      "|30    |0.5096     |0.0461       |320.8901   |9.1303     |\n",
      "|40    |0.5142     |0.0468       |311.7183   |8.9585     |\n",
      "|50    |0.5176     |0.0471       |302.4174   |8.7367     |\n",
      "|60    |0.5190     |0.0473       |295.2264   |8.3308     |\n",
      "|70    |0.5204     |0.0477       |290.5499   |7.6959     |\n",
      "|80    |0.5281     |0.0479       |284.2117   |8.3468     |\n",
      "|90    |0.5417     |0.0496       |276.2137   |8.8823     |\n",
      "|100    |0.5583     |0.0512       |263.4783   |8.3266     |\n",
      "--------------------\n",
      "Training RBM layer 2\n",
      "|Epoch |avg_rec_err |std_rec_err  |mean_grad |std_grad  |\n",
      "|10    |0.1235     |0.0120       |75.7133   |2.6477     |\n",
      "|20    |0.1176     |0.0113       |70.0618   |2.2417     |\n",
      "|30    |0.1162     |0.0109       |68.3689   |2.1839     |\n",
      "|40    |0.1147     |0.0112       |66.8819   |2.2360     |\n",
      "|50    |0.1145     |0.0112       |66.2794   |2.0545     |\n",
      "|60    |0.1139     |0.0109       |65.6187   |2.0280     |\n",
      "|70    |0.1137     |0.0108       |65.1170   |2.0397     |\n",
      "|80    |0.1136     |0.0112       |64.9695   |2.1842     |\n",
      "|90    |0.1135     |0.0108       |64.4892   |2.0071     |\n",
      "|100    |0.1134     |0.0108       |64.4633   |2.1545     |\n",
      "--------------------\n",
      "Training RBM layer 3\n",
      "|Epoch |avg_rec_err |std_rec_err  |mean_grad |std_grad  |\n",
      "|10    |0.3180     |0.0264       |56.7106   |1.7049     |\n",
      "|20    |0.2739     |0.0244       |50.6746   |1.5258     |\n",
      "|30    |0.2695     |0.0238       |50.1268   |1.5018     |\n",
      "|40    |0.2656     |0.0235       |49.6608   |1.4891     |\n",
      "|50    |0.2644     |0.0234       |49.5012   |1.4799     |\n",
      "|60    |0.2633     |0.0233       |49.2680   |1.4499     |\n",
      "|70    |0.2614     |0.0233       |48.8684   |1.4998     |\n",
      "|80    |0.2613     |0.0229       |48.8957   |1.4428     |\n",
      "|90    |0.2608     |0.0232       |48.9185   |1.5110     |\n",
      "|100    |0.2601     |0.0235       |48.8390   |1.5308     |\n"
     ]
    }
   ],
   "id": "d666e49c"
  },
  {
   "cell_type": "markdown",
   "source": [
    "## Clustering internal representations\n",
    "\n",
    "Clustering internal representations is a technique used to group similar data points together in machine learning. This can help with tasks such as anomaly detection. Various clustering algorithms can be used, but high dimensionality can make visualization and interpretation difficult. Choosing the best approach may require experimentation and evaluation. Clustering can also be used to identify and diagnose potential problems in the model's representations, such as overfitting or poor generalization.\n",
    "\n",
    "\n",
    "The purpose of this code is to visualize the relationships between different classes in the neural network by clustering their mean hidden representations. The dendrogram produced by the clustering algorithm can help interpret the structure of the hidden representations."
   ],
   "metadata": {
    "id": "6m51onFwY2Y4"
   },
   "id": "6m51onFwY2Y4"
  },
  {
   "cell_type": "code",
   "source": [
    "# Here we get the representation of the input data at the kth layer of a Deep Belief Network.\n",
    "\n",
    "def get_kth_layer_repr(input, k, device):\n",
    "    flattened_input = input.view((input.shape[0], -1)).type(torch.FloatTensor).to(device)\n",
    "    hidden_repr, __ = dbn_FashionMNIST.rbm_layers[k].to_hidden(flattened_input)\n",
    "    return hidden_repr"
   ],
   "metadata": {
    "id": "IcSJyU4ctwXq",
    "execution": {
     "iopub.status.busy": "2023-02-22T19:38:19.954051Z",
     "iopub.execute_input": "2023-02-22T19:38:19.954456Z",
     "iopub.status.idle": "2023-02-22T19:38:19.960549Z",
     "shell.execute_reply.started": "2023-02-22T19:38:19.954380Z",
     "shell.execute_reply": "2023-02-22T19:38:19.959366Z"
    },
    "trusted": true
   },
   "execution_count": 16,
   "outputs": [],
   "id": "IcSJyU4ctwXq"
  },
  {
   "cell_type": "markdown",
   "source": [
    "Of course, the representations computed using the second layer are computed using the ones from the first layer and also representations of third layer are computed using the ones from the second layer:\n",
    "\n",
    "We have 60000 train data so the shape of representation is 60000 * number of neurons in kth hidden layer."
   ],
   "metadata": {
    "id": "ACO338CKm4tZ"
   },
   "id": "ACO338CKm4tZ"
  },
  {
   "cell_type": "code",
   "source": [
    "hidden_repr_layer_1 = get_kth_layer_repr(FashionMNIST_train.data, 0, device)\n",
    "hidden_repr_layer_2 = get_kth_layer_repr(hidden_repr_layer_1, 1, device)\n",
    "hidden_repr_layer_3 = get_kth_layer_repr(hidden_repr_layer_2, 2, device)"
   ],
   "metadata": {
    "id": "OzwYgJSdZZVE",
    "execution": {
     "iopub.status.busy": "2023-02-22T19:38:24.527362Z",
     "iopub.execute_input": "2023-02-22T19:38:24.527985Z",
     "iopub.status.idle": "2023-02-22T19:38:24.953373Z",
     "shell.execute_reply.started": "2023-02-22T19:38:24.527948Z",
     "shell.execute_reply": "2023-02-22T19:38:24.952266Z"
    },
    "trusted": true
   },
   "execution_count": 17,
   "outputs": [],
   "id": "OzwYgJSdZZVE"
  },
  {
   "cell_type": "markdown",
   "source": [
    "Finally, we compute the centroid (mean) of the representations of each class and we build a matrix containing all the centroids to comply with the input required by the clustering algorithm."
   ],
   "metadata": {
    "id": "Ru54xXUjm8gw"
   },
   "id": "Ru54xXUjm8gw"
  },
  {
   "cell_type": "code",
   "source": [
    "# Filtering the target data based on the class\n",
    "def get_mask(label):\n",
    "    labels = FashionMNIST_train.targets.cpu().numpy()\n",
    "    return labels == label\n",
    "\n",
    "# Calculate the mean hidden representation of each class.\n",
    "def get_label_to_mean_hidd_repr(hidden_representation):\n",
    "    hidden_representation_np = hidden_representation.cpu().numpy()\n",
    "    return {\n",
    "        label: hidden_representation_np[get_mask(label)].mean(axis=0)\n",
    "        for label in range(10)\n",
    "    }\n",
    "\n",
    "# Concatenate the mean hidden representations of each class into a matrix.\n",
    "def get_hidden_reprs_matrix(hidden_representation):\n",
    "    label_to_mean_hidd_repr = get_label_to_mean_hidd_repr(hidden_representation)\n",
    "    return np.concatenate(\n",
    "        [np.expand_dims(label_to_mean_hidd_repr[label], axis=0) # Here we adjust the shape of centroids to do the concat\n",
    "         for label in range(10)])"
   ],
   "metadata": {
    "id": "lknNXuEJZceW",
    "execution": {
     "iopub.status.busy": "2023-02-22T19:38:28.356809Z",
     "iopub.execute_input": "2023-02-22T19:38:28.357163Z",
     "iopub.status.idle": "2023-02-22T19:38:28.364689Z",
     "shell.execute_reply.started": "2023-02-22T19:38:28.357134Z",
     "shell.execute_reply": "2023-02-22T19:38:28.363622Z"
    },
    "trusted": true
   },
   "execution_count": 18,
   "outputs": [],
   "id": "lknNXuEJZceW"
  },
  {
   "cell_type": "code",
   "source": [
    "# Here we create a matrix for each layer with the shape of 10 (number of labels) * number of neurons in kth hidden layer.\n",
    "\n",
    "mean_hidd_repr_matrix_1 = get_hidden_reprs_matrix(hidden_repr_layer_1)\n",
    "mean_hidd_repr_matrix_2 = get_hidden_reprs_matrix(hidden_repr_layer_2)\n",
    "mean_hidd_repr_matrix_3 = get_hidden_reprs_matrix(hidden_repr_layer_3)"
   ],
   "metadata": {
    "id": "sABIChsiZfjz",
    "execution": {
     "iopub.status.busy": "2023-02-22T19:38:34.448093Z",
     "iopub.execute_input": "2023-02-22T19:38:34.448474Z",
     "iopub.status.idle": "2023-02-22T19:38:34.704432Z",
     "shell.execute_reply.started": "2023-02-22T19:38:34.448437Z",
     "shell.execute_reply": "2023-02-22T19:38:34.703453Z"
    },
    "trusted": true
   },
   "execution_count": 19,
   "outputs": [],
   "id": "sABIChsiZfjz"
  },
  {
   "cell_type": "code",
   "source": [
    "def plot_dendrogram(mean_repr_matrix, title):\n",
    "    fig, ax = plt.subplots()\n",
    "    linkage = cluster.hierarchy.linkage(mean_repr_matrix, method=\"complete\")\n",
    "    dendrogram = cluster.hierarchy.dendrogram(linkage)\n",
    "    ax.set_title(title)"
   ],
   "metadata": {
    "id": "yBUQAIJxZk71",
    "execution": {
     "iopub.status.busy": "2023-02-22T19:38:38.275945Z",
     "iopub.execute_input": "2023-02-22T19:38:38.276303Z",
     "iopub.status.idle": "2023-02-22T19:38:38.281987Z",
     "shell.execute_reply.started": "2023-02-22T19:38:38.276273Z",
     "shell.execute_reply": "2023-02-22T19:38:38.280932Z"
    },
    "trusted": true
   },
   "execution_count": 20,
   "outputs": [],
   "id": "yBUQAIJxZk71"
  },
  {
   "cell_type": "markdown",
   "source": [
    "In this section, we plot the dendrogram for each layer and it will be described in how we should interpret it."
   ],
   "metadata": {
    "id": "AYXYUsg1YGyZ"
   },
   "id": "AYXYUsg1YGyZ"
  },
  {
   "cell_type": "code",
   "source": [
    "plot_dendrogram(mean_hidd_repr_matrix_1, \"First hidden layer\")"
   ],
   "metadata": {
    "id": "ln5cqEx97D01",
    "colab": {
     "base_uri": "https://localhost:8080/",
     "height": 284
    },
    "outputId": "24138d48-6106-4bf9-be71-5a8af7902e63",
    "execution": {
     "iopub.status.busy": "2023-02-22T19:38:43.585499Z",
     "iopub.execute_input": "2023-02-22T19:38:43.585872Z",
     "iopub.status.idle": "2023-02-22T19:38:43.824265Z",
     "shell.execute_reply.started": "2023-02-22T19:38:43.585843Z",
     "shell.execute_reply": "2023-02-22T19:38:43.823322Z"
    },
    "trusted": true
   },
   "execution_count": 21,
   "outputs": [
    {
     "output_type": "display_data",
     "data": {
      "text/plain": [
       "<Figure size 432x288 with 1 Axes>"
      ],
      "image/png": "[encoded data removed]"
     },
     "metadata": {
      "needs_background": "light"
     }
    }
   ],
   "id": "ln5cqEx97D01"
  },
  {
   "cell_type": "markdown",
   "source": [
    "The Y-axis represents the number of labels and the X-axis represents the range of numbers in the mean hidden representation matrix. we can find out that based on the first hidden layer label 1 and 3 have more similarity. In addition labels 9, 5, 7 have more similarity and labels 0, 4, 2, 6, and 8 have more similarity."
   ],
   "metadata": {
    "id": "0eBkfpAhjsxy"
   },
   "id": "0eBkfpAhjsxy"
  },
  {
   "cell_type": "code",
   "source": [
    "plot_dendrogram(mean_hidd_repr_matrix_2, \"Second hidden layer\")"
   ],
   "metadata": {
    "id": "rhnPyoFB7Dfh",
    "colab": {
     "base_uri": "https://localhost:8080/",
     "height": 284
    },
    "outputId": "c2243c01-4f4b-46dc-e52b-4ce227353f16",
    "execution": {
     "iopub.status.busy": "2023-02-22T19:41:08.175837Z",
     "iopub.execute_input": "2023-02-22T19:41:08.176214Z",
     "iopub.status.idle": "2023-02-22T19:41:08.417570Z",
     "shell.execute_reply.started": "2023-02-22T19:41:08.176182Z",
     "shell.execute_reply": "2023-02-22T19:41:08.416489Z"
    },
    "trusted": true
   },
   "execution_count": 22,
   "outputs": [
    {
     "output_type": "display_data",
     "data": {
      "text/plain": [
       "<Figure size 432x288 with 1 Axes>"
      ],
      "image/png": "[encoded data removed]"
     },
     "metadata": {
      "needs_background": "light"
     }
    }
   ],
   "id": "rhnPyoFB7Dfh"
  },
  {
   "cell_type": "markdown",
   "source": [
    "Based on what we described, we can observe a little difference in the second layer and also we can consider it as an improvement on the previous one."
   ],
   "metadata": {
    "id": "zIxzXPr433hY"
   },
   "id": "zIxzXPr433hY"
  },
  {
   "cell_type": "code",
   "source": [
    "plot_dendrogram(mean_hidd_repr_matrix_3, \"Third hidden layer\")"
   ],
   "metadata": {
    "colab": {
     "base_uri": "https://localhost:8080/",
     "height": 284
    },
    "id": "M1RJI38niYpe",
    "outputId": "d26800a1-20d6-402d-80ef-3940084086d4",
    "execution": {
     "iopub.status.busy": "2023-02-22T19:41:15.900671Z",
     "iopub.execute_input": "2023-02-22T19:41:15.901033Z",
     "iopub.status.idle": "2023-02-22T19:41:16.140354Z",
     "shell.execute_reply.started": "2023-02-22T19:41:15.901001Z",
     "shell.execute_reply": "2023-02-22T19:41:16.139329Z"
    },
    "trusted": true
   },
   "execution_count": 23,
   "outputs": [
    {
     "output_type": "display_data",
     "data": {
      "text/plain": [
       "<Figure size 432x288 with 1 Axes>"
      ],
      "image/png": "[encoded data removed]"
     },
     "metadata": {
      "needs_background": "light"
     }
    }
   ],
   "id": "M1RJI38niYpe"
  },
  {
   "cell_type": "markdown",
   "source": [
    "## Linear read-out\n",
    "\n",
    "linear read-out is a technique for obtaining the output of a neural network through a linear combination of the activations of the final layer neurons. This approach is commonly used in the context of RNNs and has several advantages, including simplicity, efficiency, interpretability, and scalability.\n",
    "\n",
    "In a DBN, each layer of the network learns a more abstract representation of the data compared to the previous layer. By using the activations at each layer as input features, the linear readout can take advantage of the hierarchical representation learned by the network, using a combination of low-level and high-level features to make predictions.\n",
    "\n",
    "The linear readout can be trained using supervised learning on a labeled dataset, adjusting its weights to minimize the error between the predicted output and the true output. The overall goal of the linear readout is to use the representations computed by the DBN to make predictions for a specific task, leveraging the hierarchical representation learned by the network to improve the performance of the classifier.\n",
    "\n",
    "The code first trains the RBM layers by using the input image data and passes the hidden representation at each layer to the next RBM layer. Then, the linear model is trained with the hidden representations obtained from each of the RBM layers. Finally, the accuracy of the predictions from the trained linear models is calculated by comparing them with the actual labels in the test set.\n",
    "\n",
    "We can now extract the hidden representations of the data, by propagating the neuron's activations from the sensory (visible) layer in a bottom-up fashion, and try to lineary decode the content of the representations in a supervised way such as a logistic regression model to make predictions."
   ],
   "metadata": {
    "id": "Xtj1XCtStUxP"
   },
   "id": "Xtj1XCtStUxP"
  },
  {
   "cell_type": "code",
   "source": [
    "class LinearModel(torch.nn.Module):\n",
    "    def __init__(self, layer_size):\n",
    "        super().__init__()\n",
    "        self.linear = torch.nn.Linear(layer_size, 10)\n",
    "\n",
    "    def forward(self, X):\n",
    "        return self.linear(X)"
   ],
   "metadata": {
    "id": "0I22UPLCcGOD",
    "execution": {
     "iopub.status.busy": "2023-02-22T19:41:21.052532Z",
     "iopub.execute_input": "2023-02-22T19:41:21.052883Z",
     "iopub.status.idle": "2023-02-22T19:41:21.059237Z",
     "shell.execute_reply.started": "2023-02-22T19:41:21.052852Z",
     "shell.execute_reply": "2023-02-22T19:41:21.057944Z"
    },
    "trusted": true
   },
   "execution_count": 24,
   "outputs": [],
   "id": "0I22UPLCcGOD"
  },
  {
   "cell_type": "markdown",
   "source": [
    "Here we convert each hidden layer to a linear model."
   ],
   "metadata": {
    "id": "oGrGai_n5Iwc"
   },
   "id": "oGrGai_n5Iwc"
  },
  {
   "cell_type": "code",
   "source": [
    "# Specifies the number of units in the input layer.\n",
    "\n",
    "layer_size = dbn_FashionMNIST.rbm_layers[0].W.shape[1]\n",
    "linear1 = LinearModel(layer_size).to(device)\n",
    "\n",
    "layer_size = dbn_FashionMNIST.rbm_layers[1].W.shape[1]\n",
    "linear2 = LinearModel(layer_size).to(device)\n",
    "\n",
    "layer_size = dbn_FashionMNIST.rbm_layers[2].W.shape[1]\n",
    "linear3 = LinearModel(layer_size).to(device)"
   ],
   "metadata": {
    "id": "77H4Y0y-bc17",
    "execution": {
     "iopub.status.busy": "2023-02-22T19:41:24.777392Z",
     "iopub.execute_input": "2023-02-22T19:41:24.777828Z",
     "iopub.status.idle": "2023-02-22T19:41:24.788033Z",
     "shell.execute_reply.started": "2023-02-22T19:41:24.777794Z",
     "shell.execute_reply": "2023-02-22T19:41:24.787033Z"
    },
    "trusted": true
   },
   "execution_count": 25,
   "outputs": [],
   "id": "77H4Y0y-bc17"
  },
  {
   "cell_type": "markdown",
   "source": [
    "Here we train our linear model with the representations we obtained from the previous section.\n",
    "\n",
    "The code makes use of PyTorch library for deep learning, which provides built-in functions for training and evaluating models. The optimizer used for training is Adam, and the loss function used is cross-entropy loss. The implementation uses the GPU for acceleration if available.\n",
    "\n",
    "Adam is a popular optimization algorithm used in machine learning, particularly in deep learning, for training neural networks. The name \"Adam\" stands for \"Adaptive Moment Estimation\", which reflects the fact that the algorithm adapts the learning rate based on the moment estimates of the gradients.\n",
    "The Adam optimizer is a combination of two other optimization algorithms: Adaptive Gradient Algorithm (AdaGrad) and Root Mean Square Propagation (RMSProp). The main idea behind Adam is to use the first and second moments of the gradients to adaptively adjust the learning rate for each weight in the network. The first moment is the average of the gradients and the second moment is the average of the squares of the gradients.\n",
    "\n",
    "Cross-entropy loss, also known as log loss, measures the dissimilarity between two probability distributions. It is widely used in machine learning, particularly in the training of classification models. The formula for cross-entropy loss is given as:\n",
    "\n",
    "$$L = -\\sum_{i} t_i \\log(y_i)$$\n",
    "\n",
    "where t_i is the true label (i.e. ground truth) and y_i is the predicted probability of the correct label. The cross-entropy loss measures the \"distance\" between the true label and predicted probabilities, with a lower value indicating that the predicted probabilities are closer to the true label."
   ],
   "metadata": {
    "id": "6dcvWG3r5czn"
   },
   "id": "6dcvWG3r5czn"
  },
  {
   "cell_type": "code",
   "source": [
    "def fit(linear, hidden_reprs):\n",
    "    # We choose Adam optimizing algorithm with learning rate 0.0005.\n",
    "\n",
    "    optimizer = optim.Adam(linear.parameters(), lr=0.0005)\n",
    "    loss_fn = torch.nn.CrossEntropyLoss()\n",
    "    epochs = 2000\n",
    "\n",
    "    for epoch in range(1, epochs + 1):\n",
    "        optimizer.zero_grad()\n",
    "        predictions = linear(hidden_reprs).squeeze()\n",
    "        targets = FashionMNIST_train.targets.reshape(predictions.shape[0]).to(device)\n",
    "        loss = loss_fn(predictions, targets)\n",
    "        loss.backward()\n",
    "        optimizer.step()\n",
    "\n",
    "        if epoch % 100 == 0:\n",
    "            print(\"epoch : {:3d}/{}, loss = {:.4f}\".format(epoch, epochs, loss))"
   ],
   "metadata": {
    "id": "EvKrjf_-bgRg",
    "execution": {
     "iopub.status.busy": "2023-02-22T19:41:29.008087Z",
     "iopub.execute_input": "2023-02-22T19:41:29.008469Z",
     "iopub.status.idle": "2023-02-22T19:41:29.015330Z",
     "shell.execute_reply.started": "2023-02-22T19:41:29.008433Z",
     "shell.execute_reply": "2023-02-22T19:41:29.014282Z"
    },
    "trusted": true
   },
   "execution_count": 26,
   "outputs": [],
   "id": "EvKrjf_-bgRg"
  },
  {
   "cell_type": "markdown",
   "source": [
    "And in this section we train each hidden layer separately."
   ],
   "metadata": {
    "id": "k1L61vzq0q6o"
   },
   "id": "k1L61vzq0q6o"
  },
  {
   "cell_type": "code",
   "source": [
    "fit(linear1, hidden_repr_layer_1)\n",
    "print('End of first layer', end=\"\\n\\n\")\n",
    "\n",
    "fit(linear2, hidden_repr_layer_2)\n",
    "print('End of second layer', end=\"\\n\\n\")\n",
    "\n",
    "fit(linear3, hidden_repr_layer_3)\n",
    "print('End of third layer', end=\"\\n\\n\")"
   ],
   "metadata": {
    "colab": {
     "base_uri": "https://localhost:8080/"
    },
    "id": "o_MwtdawcMF6",
    "outputId": "63e4fecc-efdf-45dc-c489-c8382a5c5ff7",
    "execution": {
     "iopub.status.busy": "2023-02-22T19:41:39.160679Z",
     "iopub.execute_input": "2023-02-22T19:41:39.161028Z",
     "iopub.status.idle": "2023-02-22T19:41:56.268810Z",
     "shell.execute_reply.started": "2023-02-22T19:41:39.160998Z",
     "shell.execute_reply": "2023-02-22T19:41:56.260483Z"
    },
    "trusted": true
   },
   "execution_count": 27,
   "outputs": [
    {
     "output_type": "stream",
     "name": "stdout",
     "text": [
      "epoch : 100/2000, loss = 1.4232\n",
      "epoch : 200/2000, loss = 1.0295\n",
      "epoch : 300/2000, loss = 0.8414\n",
      "epoch : 400/2000, loss = 0.7357\n",
      "epoch : 500/2000, loss = 0.6683\n",
      "epoch : 600/2000, loss = 0.6213\n",
      "epoch : 700/2000, loss = 0.5865\n",
      "epoch : 800/2000, loss = 0.5596\n",
      "epoch : 900/2000, loss = 0.5381\n",
      "epoch : 1000/2000, loss = 0.5205\n",
      "epoch : 1100/2000, loss = 0.5058\n",
      "epoch : 1200/2000, loss = 0.4933\n",
      "epoch : 1300/2000, loss = 0.4825\n",
      "epoch : 1400/2000, loss = 0.4731\n",
      "epoch : 1500/2000, loss = 0.4649\n",
      "epoch : 1600/2000, loss = 0.4576\n",
      "epoch : 1700/2000, loss = 0.4511\n",
      "epoch : 1800/2000, loss = 0.4452\n",
      "epoch : 1900/2000, loss = 0.4399\n",
      "epoch : 2000/2000, loss = 0.4350\n",
      "End of first layer\n",
      "\n",
      "epoch : 100/2000, loss = 1.1695\n",
      "epoch : 200/2000, loss = 0.8120\n",
      "epoch : 300/2000, loss = 0.6764\n",
      "epoch : 400/2000, loss = 0.6043\n",
      "epoch : 500/2000, loss = 0.5587\n",
      "epoch : 600/2000, loss = 0.5271\n",
      "epoch : 700/2000, loss = 0.5037\n",
      "epoch : 800/2000, loss = 0.4858\n",
      "epoch : 900/2000, loss = 0.4716\n",
      "epoch : 1000/2000, loss = 0.4600\n",
      "epoch : 1100/2000, loss = 0.4504\n",
      "epoch : 1200/2000, loss = 0.4423\n",
      "epoch : 1300/2000, loss = 0.4353\n",
      "epoch : 1400/2000, loss = 0.4292\n",
      "epoch : 1500/2000, loss = 0.4238\n",
      "epoch : 1600/2000, loss = 0.4190\n",
      "epoch : 1700/2000, loss = 0.4147\n",
      "epoch : 1800/2000, loss = 0.4108\n",
      "epoch : 1900/2000, loss = 0.4072\n",
      "epoch : 2000/2000, loss = 0.4039\n",
      "End of second layer\n",
      "\n",
      "epoch : 100/2000, loss = 1.5028\n",
      "epoch : 200/2000, loss = 1.0896\n",
      "epoch : 300/2000, loss = 0.8854\n",
      "epoch : 400/2000, loss = 0.7711\n",
      "epoch : 500/2000, loss = 0.6995\n",
      "epoch : 600/2000, loss = 0.6507\n",
      "epoch : 700/2000, loss = 0.6151\n",
      "epoch : 800/2000, loss = 0.5880\n",
      "epoch : 900/2000, loss = 0.5666\n",
      "epoch : 1000/2000, loss = 0.5493\n",
      "epoch : 1100/2000, loss = 0.5349\n",
      "epoch : 1200/2000, loss = 0.5228\n",
      "epoch : 1300/2000, loss = 0.5124\n",
      "epoch : 1400/2000, loss = 0.5034\n",
      "epoch : 1500/2000, loss = 0.4955\n",
      "epoch : 1600/2000, loss = 0.4886\n",
      "epoch : 1700/2000, loss = 0.4823\n",
      "epoch : 1800/2000, loss = 0.4767\n",
      "epoch : 1900/2000, loss = 0.4717\n",
      "epoch : 2000/2000, loss = 0.4671\n",
      "End of third layer\n",
      "\n"
     ]
    }
   ],
   "id": "o_MwtdawcMF6"
  },
  {
   "cell_type": "markdown",
   "source": [
    "As it is obvious, the value of loss in last epoch of second hidden layer is less than the first and the second layers."
   ],
   "metadata": {
    "id": "TujPau-g6FZ_"
   },
   "id": "TujPau-g6FZ_"
  },
  {
   "cell_type": "markdown",
   "source": [
    "Here we use FashionMnist test dataset to calculate the accuracy of each hidden layer we trained separately."
   ],
   "metadata": {
    "id": "EsxP7mRnU_nG"
   },
   "id": "EsxP7mRnU_nG"
  },
  {
   "cell_type": "code",
   "source": [
    "hidden_repr_layer_1_test = get_kth_layer_repr(FashionMNIST_test.data, 0, device)\n",
    "hidden_repr_layer_2_test = get_kth_layer_repr(hidden_repr_layer_1_test, 1, device)\n",
    "hidden_repr_layer_3_test = get_kth_layer_repr(hidden_repr_layer_2_test, 2, device)"
   ],
   "metadata": {
    "id": "qCY52uuCcSHE",
    "execution": {
     "iopub.status.busy": "2023-02-22T19:44:00.452169Z",
     "iopub.execute_input": "2023-02-22T19:44:00.452560Z",
     "iopub.status.idle": "2023-02-22T19:44:00.515761Z",
     "shell.execute_reply.started": "2023-02-22T19:44:00.452525Z",
     "shell.execute_reply": "2023-02-22T19:44:00.514792Z"
    },
    "trusted": true
   },
   "execution_count": 28,
   "outputs": [],
   "id": "qCY52uuCcSHE"
  },
  {
   "cell_type": "code",
   "source": [
    "# Here we compute the predictions\n",
    "predictions_test1 = linear1(hidden_repr_layer_1_test).to(device)\n",
    "predictions_test2 = linear2(hidden_repr_layer_2_test).to(device)\n",
    "predictions_test3 = linear3(hidden_repr_layer_3_test).to(device)"
   ],
   "metadata": {
    "id": "X4gUPge7cUxo",
    "execution": {
     "iopub.status.busy": "2023-02-22T19:44:04.623261Z",
     "iopub.execute_input": "2023-02-22T19:44:04.624187Z",
     "iopub.status.idle": "2023-02-22T19:44:04.629968Z",
     "shell.execute_reply.started": "2023-02-22T19:44:04.624151Z",
     "shell.execute_reply": "2023-02-22T19:44:04.628843Z"
    },
    "trusted": true
   },
   "execution_count": 29,
   "outputs": [],
   "id": "X4gUPge7cUxo"
  },
  {
   "cell_type": "code",
   "source": [
    "# Computes the accuracy of predictions\n",
    "def compute_accuracy(predictions_test, targets):\n",
    "    predictions_indices = predictions_test.max(axis=1).indices\n",
    "    accuracy = (predictions_indices == targets).sum() / len(targets)\n",
    "    return accuracy.item()"
   ],
   "metadata": {
    "id": "dLTWRWXbcXEw",
    "execution": {
     "iopub.status.busy": "2023-02-22T19:44:07.280092Z",
     "iopub.execute_input": "2023-02-22T19:44:07.280477Z",
     "iopub.status.idle": "2023-02-22T19:44:07.285940Z",
     "shell.execute_reply.started": "2023-02-22T19:44:07.280443Z",
     "shell.execute_reply": "2023-02-22T19:44:07.284758Z"
    },
    "trusted": true
   },
   "execution_count": 30,
   "outputs": [],
   "id": "dLTWRWXbcXEw"
  },
  {
   "cell_type": "code",
   "source": [
    "compute_accuracy(predictions_test1, FashionMNIST_test.targets.to(device))"
   ],
   "metadata": {
    "colab": {
     "base_uri": "https://localhost:8080/"
    },
    "id": "qdtQR8qdca5j",
    "outputId": "4a09408c-7bc9-4dbf-e312-2dbd5cf718f3",
    "execution": {
     "iopub.status.busy": "2023-02-22T19:44:11.430255Z",
     "iopub.execute_input": "2023-02-22T19:44:11.430931Z",
     "iopub.status.idle": "2023-02-22T19:44:11.442189Z",
     "shell.execute_reply.started": "2023-02-22T19:44:11.430894Z",
     "shell.execute_reply": "2023-02-22T19:44:11.440913Z"
    },
    "trusted": true
   },
   "execution_count": 31,
   "outputs": [
    {
     "output_type": "execute_result",
     "data": {
      "text/plain": [
       "0.8367999792098999"
      ]
     },
     "metadata": {},
     "execution_count": 31
    }
   ],
   "id": "qdtQR8qdca5j"
  },
  {
   "cell_type": "code",
   "source": [
    "compute_accuracy(predictions_test2, FashionMNIST_test.targets.to(device))"
   ],
   "metadata": {
    "colab": {
     "base_uri": "https://localhost:8080/"
    },
    "id": "2LKL_vfgcbfS",
    "outputId": "7ab7b757-94ff-4c70-adb9-febdc69126c4",
    "execution": {
     "iopub.status.busy": "2023-02-22T19:44:14.697146Z",
     "iopub.execute_input": "2023-02-22T19:44:14.697521Z",
     "iopub.status.idle": "2023-02-22T19:44:14.705963Z",
     "shell.execute_reply.started": "2023-02-22T19:44:14.697488Z",
     "shell.execute_reply": "2023-02-22T19:44:14.704668Z"
    },
    "trusted": true
   },
   "execution_count": 32,
   "outputs": [
    {
     "output_type": "execute_result",
     "data": {
      "text/plain": [
       "0.8430999517440796"
      ]
     },
     "metadata": {},
     "execution_count": 32
    }
   ],
   "id": "2LKL_vfgcbfS"
  },
  {
   "cell_type": "code",
   "source": [
    "compute_accuracy(predictions_test3, FashionMNIST_test.targets.to(device))"
   ],
   "metadata": {
    "colab": {
     "base_uri": "https://localhost:8080/"
    },
    "id": "ATPXnuH-m4bQ",
    "outputId": "8e64421e-9d90-4904-8f1a-c7f1d41afda7",
    "execution": {
     "iopub.status.busy": "2023-02-22T19:44:18.003153Z",
     "iopub.execute_input": "2023-02-22T19:44:18.003527Z",
     "iopub.status.idle": "2023-02-22T19:44:18.010717Z",
     "shell.execute_reply.started": "2023-02-22T19:44:18.003494Z",
     "shell.execute_reply": "2023-02-22T19:44:18.009707Z"
    },
    "trusted": true
   },
   "execution_count": 33,
   "outputs": [
    {
     "output_type": "execute_result",
     "data": {
      "text/plain": [
       "0.8256999850273132"
      ]
     },
     "metadata": {},
     "execution_count": 33
    }
   ],
   "id": "ATPXnuH-m4bQ"
  },
  {
   "cell_type": "markdown",
   "source": [
    "The accuracy values are adequate and obviously the second layer is more efficient."
   ],
   "metadata": {
    "id": "eLyHcG8jY5BB"
   },
   "id": "eLyHcG8jY5BB"
  },
  {
   "cell_type": "markdown",
   "source": [
    "## Comparison with a feed-forward model\n",
    "\n",
    "A feed-forward model is a type of neural network where data flows in one direction through a sequence of layers, with each layer applying a linear transformation followed by a non-linear activation function to the input data. This type of network is commonly used in deep learning for tasks such as regression, classification, and feature extraction. The mathematical formulation of an FFNN can be represented as follows:\n",
    "\n",
    "Given an input vector X of size (n x 1), where n is the number of features, the output of each layer l can be represented as:\n",
    "\n",
    "$$Z_l = W_l * A_{l-1} + b_l$$\n",
    "\n",
    "Where W_l is the weight matrix of size (m_l x m_{l-1}), b_l is the bias vector of size (m_l x 1), A_{l-1} is the activation matrix of size (m_{l-1} x 1), m_l is the number of neurons in layer l, and * represents the dot product.\n",
    "\n",
    "The activation matrix A_l is then obtained by applying an activation function f_l to the result Z_l:\n",
    "\n",
    "$$A_l = f_l(Z_l)$$\n",
    "\n",
    "Common activation functions include the sigmoid function, hyperbolic tangent, and Rectified Linear Unit (ReLU).\n",
    "\n",
    "Once the output of the last layer is obtained, the prediction Y_hat is made by taking the dot product of the final activation matrix A_L with another weight matrix W_{L+1} and adding the bias vector b_{L+1}:\n",
    "\n",
    "$$Y_hat = W_{L+1} * A_L + b_{L+1}$$\n",
    "\n",
    "We will train a simple feed-forward neural network with the same structure of the DBN, in order to compare a non-linear model that is trained end-to-end to solve a classification task with a simple linear classifier that solves the same task using representations of input data learned in an unsupervised way."
   ],
   "metadata": {
    "id": "jK4B77s_Up15"
   },
   "id": "jK4B77s_Up15"
  },
  {
   "cell_type": "markdown",
   "source": [
    "**`Architecture`**\n",
    "\n",
    "\n",
    "The neural network has fully connected layers, where each neuron in each layer is connected to every neuron in the previous and next layer.\n",
    "\n",
    "The input to the network is an image tensor of size 28x28, which is flattened to a 784-dimensional vector using the view method. The flattened vector is then passed through three hidden layers, with each layer applying a linear transformation to the input followed by a GELU activation function.\n",
    "Finally, the output layer applies a linear transformation to the output of the third hidden layer, to produce a vector of size 10, corresponding to the 10 classes of the FashionMNIST dataset.\n",
    "\n",
    "The GELU activation function used in this architecture is a variant of the popular ReLU activation function, which is known to improve the performance of deep neural networks by addressing the \"dying ReLU\" problem."
   ],
   "metadata": {
    "id": "ilniXkoMFy_U"
   },
   "id": "ilniXkoMFy_U"
  },
  {
   "cell_type": "code",
   "source": [
    "class Feedforward(torch.nn.Module):\n",
    "    def __init__(self, first_hidden_layer_size, second_hidden_layer_size, third_hidden_layer_size):\n",
    "        super().__init__()\n",
    "        self.first_hidden_layer = torch.nn.Linear(784, first_hidden_layer_size)\n",
    "        self.second_hidden_layer = torch.nn.Linear(first_hidden_layer_size, second_hidden_layer_size)\n",
    "        self.third_hidden_layer = torch.nn.Linear(second_hidden_layer_size, third_hidden_layer_size)\n",
    "\n",
    "        # output layer\n",
    "        self.output = torch.nn.Linear(third_hidden_layer_size, 10)\n",
    "\n",
    "    def forward(self, input):\n",
    "        # We use GELU activation function as a extend of ReLU to obtain better result.\n",
    "        gelu = torch.nn.GELU()\n",
    "\n",
    "        # Flatten the image tensors\n",
    "        flatten_out = input.view(input.size(0), -1).to(torch.float32)\n",
    "\n",
    "        # Get intermediate outputs using hidden layer 1\n",
    "        first_hidden_out = self.first_hidden_layer(flatten_out)\n",
    "        # Apply activation function\n",
    "        out = gelu(first_hidden_out)\n",
    "\n",
    "        # Get intermediate outputs using hidden layer 2\n",
    "        second_hidden_out = self.second_hidden_layer(out)\n",
    "        # Apply activation function\n",
    "        out = gelu(second_hidden_out)\n",
    "\n",
    "        # Get intermediate outputs using hidden layer 3\n",
    "        third_hidden_out = self.third_hidden_layer(out)\n",
    "        # Apply activation function\n",
    "        out = gelu(third_hidden_out)\n",
    "\n",
    "        # Get predictions using output layer\n",
    "        return self.output(out)"
   ],
   "metadata": {
    "jupyter": {
     "outputs_hidden": false
    },
    "execution": {
     "iopub.status.busy": "2023-02-22T19:48:46.996717Z",
     "iopub.execute_input": "2023-02-22T19:48:46.997646Z",
     "iopub.status.idle": "2023-02-22T19:48:47.007191Z",
     "shell.execute_reply.started": "2023-02-22T19:48:46.997593Z",
     "shell.execute_reply": "2023-02-22T19:48:47.006064Z"
    },
    "trusted": true,
    "id": "sXh2oX8E33hc"
   },
   "execution_count": 34,
   "outputs": [],
   "id": "sXh2oX8E33hc"
  },
  {
   "cell_type": "markdown",
   "source": [
    "Here we pass the same architecture of DBN to our linear feedforward model."
   ],
   "metadata": {
    "id": "EZpPOqAr33hc"
   },
   "id": "EZpPOqAr33hc"
  },
  {
   "cell_type": "code",
   "source": [
    "ffnn = Feedforward(512, 256, 128).to(device)"
   ],
   "metadata": {
    "jupyter": {
     "outputs_hidden": false
    },
    "execution": {
     "iopub.status.busy": "2023-02-22T19:48:52.695436Z",
     "iopub.execute_input": "2023-02-22T19:48:52.695788Z",
     "iopub.status.idle": "2023-02-22T19:48:52.709712Z",
     "shell.execute_reply.started": "2023-02-22T19:48:52.695757Z",
     "shell.execute_reply": "2023-02-22T19:48:52.708629Z"
    },
    "trusted": true,
    "id": "8Uz7TWjH33hc"
   },
   "execution_count": 35,
   "outputs": [],
   "id": "8Uz7TWjH33hc"
  },
  {
   "cell_type": "markdown",
   "source": [
    "We train the feedforward model here."
   ],
   "metadata": {
    "id": "lP821l1J33hc"
   },
   "id": "lP821l1J33hc"
  },
  {
   "cell_type": "code",
   "source": [
    "fit(ffnn, FashionMNIST_train.data.reshape((60000, 784)).to(device))"
   ],
   "metadata": {
    "jupyter": {
     "outputs_hidden": false
    },
    "execution": {
     "iopub.status.busy": "2023-02-22T19:48:59.343435Z",
     "iopub.execute_input": "2023-02-22T19:48:59.344392Z",
     "iopub.status.idle": "2023-02-22T19:50:00.004897Z",
     "shell.execute_reply.started": "2023-02-22T19:48:59.344355Z",
     "shell.execute_reply": "2023-02-22T19:50:00.003764Z"
    },
    "trusted": true,
    "colab": {
     "base_uri": "https://localhost:8080/"
    },
    "id": "Omxq53Zf33hc",
    "outputId": "bc735939-de53-4527-e914-9fa330f537f6"
   },
   "execution_count": 36,
   "outputs": [
    {
     "output_type": "stream",
     "name": "stdout",
     "text": [
      "epoch : 100/2000, loss = 0.4516\n",
      "epoch : 200/2000, loss = 0.3658\n",
      "epoch : 300/2000, loss = 0.3154\n",
      "epoch : 400/2000, loss = 0.2802\n",
      "epoch : 500/2000, loss = 0.2539\n",
      "epoch : 600/2000, loss = 0.2287\n",
      "epoch : 700/2000, loss = 0.2040\n",
      "epoch : 800/2000, loss = 0.1851\n",
      "epoch : 900/2000, loss = 0.1687\n",
      "epoch : 1000/2000, loss = 0.1568\n",
      "epoch : 1100/2000, loss = 0.1410\n",
      "epoch : 1200/2000, loss = 0.1292\n",
      "epoch : 1300/2000, loss = 0.1269\n",
      "epoch : 1400/2000, loss = 0.1826\n",
      "epoch : 1500/2000, loss = 0.1642\n",
      "epoch : 1600/2000, loss = 0.0904\n",
      "epoch : 1700/2000, loss = 0.0838\n",
      "epoch : 1800/2000, loss = 0.1117\n",
      "epoch : 1900/2000, loss = 0.0750\n",
      "epoch : 2000/2000, loss = 0.0690\n"
     ]
    }
   ],
   "id": "Omxq53Zf33hc"
  },
  {
   "cell_type": "markdown",
   "source": [
    "We observe that the loss value has significantly decreased by the feedforward model.\n",
    "\n",
    "Then we use the trained model to predict test dataset targets and finally calculate the accuracy."
   ],
   "metadata": {
    "id": "JctXPAMy33hd"
   },
   "id": "JctXPAMy33hd"
  },
  {
   "cell_type": "code",
   "source": [
    "predictions_ffnn = ffnn(FashionMNIST_test.data.reshape((10000, 784)).to(device))"
   ],
   "metadata": {
    "jupyter": {
     "outputs_hidden": false
    },
    "execution": {
     "iopub.status.busy": "2023-02-22T19:51:46.023459Z",
     "iopub.execute_input": "2023-02-22T19:51:46.023809Z",
     "iopub.status.idle": "2023-02-22T19:51:46.043826Z",
     "shell.execute_reply.started": "2023-02-22T19:51:46.023780Z",
     "shell.execute_reply": "2023-02-22T19:51:46.042917Z"
    },
    "trusted": true,
    "id": "X4RkOj4E33hd"
   },
   "execution_count": 37,
   "outputs": [],
   "id": "X4RkOj4E33hd"
  },
  {
   "cell_type": "code",
   "source": [
    "compute_accuracy(predictions_ffnn, FashionMNIST_test.targets.to(device))"
   ],
   "metadata": {
    "jupyter": {
     "outputs_hidden": false
    },
    "execution": {
     "iopub.status.busy": "2023-02-22T19:51:55.739522Z",
     "iopub.execute_input": "2023-02-22T19:51:55.739874Z",
     "iopub.status.idle": "2023-02-22T19:51:55.747998Z",
     "shell.execute_reply.started": "2023-02-22T19:51:55.739843Z",
     "shell.execute_reply": "2023-02-22T19:51:55.746868Z"
    },
    "trusted": true,
    "colab": {
     "base_uri": "https://localhost:8080/"
    },
    "id": "Eaar0Dxs33hd",
    "outputId": "bcb65679-e24e-48d5-ac35-810f65063655"
   },
   "execution_count": 38,
   "outputs": [
    {
     "output_type": "execute_result",
     "data": {
      "text/plain": [
       "0.887499988079071"
      ]
     },
     "metadata": {},
     "execution_count": 38
    }
   ],
   "id": "Eaar0Dxs33hd"
  },
  {
   "cell_type": "markdown",
   "source": [
    "This accuracy demonstrate an adequate improvement in comparison to linear read-out."
   ],
   "metadata": {
    "id": "XqBW0TSb33hd"
   },
   "id": "XqBW0TSb33hd"
  },
  {
   "cell_type": "markdown",
   "source": [
    "## Visualizing the confusion matrices\n",
    "\n",
    "A confusion matrix is a table used to evaluate the performance of a classification model. It shows the number of correct and incorrect predictions for each class, and can be used to compute various performance metrics. It helps assess the overall performance of the model and identify specific areas where it may need improvement.\n",
    "\n",
    "The confusion matrix is then visualized using a heatmap created with the seaborn library. The plot displays the predicted label along the x-axis and the true label along the y-axis. The cells in the heatmap are colored based on the value of each cell, with white for high values and black for low values. The code then applies the function to the FashionMNIST dataset and shows the resulting plot.\n",
    "\n",
    "In this section, we want to visualize the confusion matrix for linear read-out layers and the feed-forward model to observe the progress of our supervised learning."
   ],
   "metadata": {
    "id": "pvMVPjb333hd"
   },
   "id": "pvMVPjb333hd"
  },
  {
   "cell_type": "markdown",
   "source": [
    "First, we visualize the confusion matrix of linear read-out layers.\n",
    "The first plot is for the first hidden layer."
   ],
   "metadata": {
    "id": "mj8cTtTn33hd"
   },
   "id": "mj8cTtTn33hd"
  },
  {
   "cell_type": "code",
   "source": [
    "classes = ('T-shirt/top', 'Trouser', 'Pullover', 'Dress', 'Coat',\n",
    "           'Sandal', 'Shirt', 'Sneaker', 'Bag', 'Ankle Boot')\n",
    "\n",
    "actual_labels = FashionMNIST_test.targets.to(device).cpu().numpy()\n",
    "predicted_labels = predictions_test1.cpu().detach().max(axis=1).indices.numpy()\n",
    "\n",
    "cf_matrix = confusion_matrix(actual_labels, predicted_labels)\n",
    "\n",
    "df_cm = pd.DataFrame(cf_matrix / np.sum(cf_matrix) * 10, index=[i for i in classes], columns=[i for i in classes])\n",
    "plt.figure(figsize=(12, 8))\n",
    "sn.heatmap(df_cm, cmap=\"PuBuGn\", annot=True)\n",
    "\n",
    "print(classification_report(actual_labels, predicted_labels))"
   ],
   "metadata": {
    "jupyter": {
     "outputs_hidden": false
    },
    "execution": {
     "iopub.status.busy": "2023-02-22T19:53:15.818855Z",
     "iopub.execute_input": "2023-02-22T19:53:15.819215Z",
     "iopub.status.idle": "2023-02-22T19:53:16.572272Z",
     "shell.execute_reply.started": "2023-02-22T19:53:15.819184Z",
     "shell.execute_reply": "2023-02-22T19:53:16.571234Z"
    },
    "trusted": true,
    "colab": {
     "base_uri": "https://localhost:8080/",
     "height": 778
    },
    "id": "469Jaa1s33he",
    "outputId": "84a1cff9-a667-4c19-cc7c-950f2d2c89ba"
   },
   "execution_count": 39,
   "outputs": [
    {
     "output_type": "stream",
     "name": "stdout",
     "text": [
      "              precision    recall  f1-score   support\n",
      "\n",
      "           0       0.79      0.80      0.79      1000\n",
      "           1       0.98      0.94      0.96      1000\n",
      "           2       0.72      0.75      0.73      1000\n",
      "           3       0.83      0.88      0.85      1000\n",
      "           4       0.72      0.74      0.73      1000\n",
      "           5       0.96      0.91      0.93      1000\n",
      "           6       0.60      0.53      0.56      1000\n",
      "           7       0.90      0.93      0.91      1000\n",
      "           8       0.94      0.96      0.95      1000\n",
      "           9       0.92      0.94      0.93      1000\n",
      "\n",
      "    accuracy                           0.84     10000\n",
      "   macro avg       0.84      0.84      0.84     10000\n",
      "weighted avg       0.84      0.84      0.84     10000\n",
      "\n"
     ]
    },
    {
     "output_type": "display_data",
     "data": {
      "text/plain": [
       "<Figure size 864x576 with 2 Axes>"
      ],
      "image/png": "[encoded data removed]"
     },
     "metadata": {
      "needs_background": "light"
     }
    }
   ],
   "id": "469Jaa1s33he"
  },
  {
   "cell_type": "markdown",
   "source": [
    "Looking at the report, we can see that the model performs well on some classes and not as well on others. Specifically, the model has high precision and recall for classes 1, 5, 7, 8, and 9, with F1-scores of 0.96, 0.94, 0.92, 0.95, and 0.94, respectively. This suggests that the model is very good at predicting these classes when they are present in the test data, and it is also good at correctly identifying instances of these classes.\n",
    "\n",
    "On the other hand, the model does not perform as well on classes 0, 2, 3, 4, and 6. The precision, recall, and F1-scores for these classes range from 0.58 to 0.84, which suggests that the model is less accurate when it comes to predicting these classes and correctly identifying them.\n",
    "\n",
    "Overall, the accuracy of the model is 0.84, which means that it correctly predicts the class label for 84% of instances in the test data. The macro-averages of precision, recall, and F1-score are also 0.84, indicating that the model's overall performance is consistent across all classes. The weighted-averages of precision, recall, and F1-score are also 0.84, which suggests that the model is not biased towards any particular class."
   ],
   "metadata": {
    "id": "b1yQmvcb33he"
   },
   "id": "b1yQmvcb33he"
  },
  {
   "cell_type": "markdown",
   "source": [
    "Then, we plot the second confusion matrix for the second hidden layer."
   ],
   "metadata": {
    "id": "Bt82WXJJ33he"
   },
   "id": "Bt82WXJJ33he"
  },
  {
   "cell_type": "code",
   "source": [
    "predicted_labels = predictions_test2.cpu().detach().max(axis=1).indices.numpy()\n",
    "\n",
    "cf_matrix = confusion_matrix(actual_labels, predicted_labels)\n",
    "\n",
    "df_cm = pd.DataFrame(cf_matrix / np.sum(cf_matrix) * 10, index=[i for i in classes], columns=[i for i in classes])\n",
    "plt.figure(figsize=(12, 8))\n",
    "sn.heatmap(df_cm, cmap=\"PuBuGn\", annot=True)\n",
    "\n",
    "print(classification_report(actual_labels, predicted_labels))"
   ],
   "metadata": {
    "jupyter": {
     "outputs_hidden": false
    },
    "execution": {
     "iopub.status.busy": "2023-02-22T19:55:51.051665Z",
     "iopub.execute_input": "2023-02-22T19:55:51.052042Z",
     "iopub.status.idle": "2023-02-22T19:55:52.009874Z",
     "shell.execute_reply.started": "2023-02-22T19:55:51.052010Z",
     "shell.execute_reply": "2023-02-22T19:55:52.008816Z"
    },
    "trusted": true,
    "colab": {
     "base_uri": "https://localhost:8080/",
     "height": 778
    },
    "id": "2k3tBkWR33he",
    "outputId": "ce2b1c0c-ceb8-424e-9564-a41e0988332d"
   },
   "execution_count": 40,
   "outputs": [
    {
     "output_type": "stream",
     "name": "stdout",
     "text": [
      "              precision    recall  f1-score   support\n",
      "\n",
      "           0       0.79      0.81      0.80      1000\n",
      "           1       0.99      0.94      0.96      1000\n",
      "           2       0.74      0.75      0.75      1000\n",
      "           3       0.83      0.88      0.85      1000\n",
      "           4       0.73      0.75      0.74      1000\n",
      "           5       0.95      0.92      0.94      1000\n",
      "           6       0.60      0.54      0.57      1000\n",
      "           7       0.91      0.93      0.92      1000\n",
      "           8       0.94      0.96      0.95      1000\n",
      "           9       0.93      0.94      0.93      1000\n",
      "\n",
      "    accuracy                           0.84     10000\n",
      "   macro avg       0.84      0.84      0.84     10000\n",
      "weighted avg       0.84      0.84      0.84     10000\n",
      "\n"
     ]
    },
    {
     "output_type": "display_data",
     "data": {
      "text/plain": [
       "<Figure size 864x576 with 2 Axes>"
      ],
      "image/png": "[encoded data removed]"
     },
     "metadata": {
      "needs_background": "light"
     }
    }
   ],
   "id": "2k3tBkWR33he"
  },
  {
   "cell_type": "markdown",
   "source": [
    "The precision, recall, and F1-scores are similar to the previous report, but there are some slight improvements. The model still performs well on classes 1, 5, 7, 8, and 9, with F1-scores ranging from 0.93 to 0.97. The model also performs well on classes 0 and 3, with F1-scores of 0.80 and 0.86, respectively, which are higher than in the previous report. However, the model still does not perform as well on classes 2, 4, and 6, with F1-scores ranging from 0.73 to 0.75.\n",
    "\n",
    "The accuracy of the model is still 0.84, and the macro- and weighted-averages of precision, recall, and F1-score are the same as the previous report. This indicates that the model's overall performance is consistent across all classes and not biased towards any particular class.\n",
    "\n",
    "Overall, this report suggests that the model has made some slight improvements compared to the previous report, particularly in predicting classes 0 and 3. However, it still has room for improvement in predicting classes 2, 4, and 6."
   ],
   "metadata": {
    "id": "yiBbdCd433he"
   },
   "id": "yiBbdCd433he"
  },
  {
   "cell_type": "markdown",
   "source": [
    "Next, we plot the third confusion matrix for the third hidden layer."
   ],
   "metadata": {
    "id": "1CfT9Wpc33he"
   },
   "id": "1CfT9Wpc33he"
  },
  {
   "cell_type": "code",
   "source": [
    "predicted_labels = predictions_test3.cpu().detach().max(axis=1).indices.numpy()\n",
    "\n",
    "cf_matrix = confusion_matrix(actual_labels, predicted_labels)\n",
    "\n",
    "df_cm = pd.DataFrame(cf_matrix / np.sum(cf_matrix) * 10, index=[i for i in classes], columns=[i for i in classes])\n",
    "plt.figure(figsize=(12, 8))\n",
    "sn.heatmap(df_cm, cmap=\"PuBuGn\", annot=True)\n",
    "\n",
    "print(classification_report(actual_labels, predicted_labels))"
   ],
   "metadata": {
    "jupyter": {
     "outputs_hidden": false
    },
    "execution": {
     "iopub.status.busy": "2023-02-22T19:56:11.256250Z",
     "iopub.execute_input": "2023-02-22T19:56:11.256915Z",
     "iopub.status.idle": "2023-02-22T19:56:11.966521Z",
     "shell.execute_reply.started": "2023-02-22T19:56:11.256880Z",
     "shell.execute_reply": "2023-02-22T19:56:11.965652Z"
    },
    "trusted": true,
    "colab": {
     "base_uri": "https://localhost:8080/",
     "height": 778
    },
    "id": "nDHe4Mhg33hf",
    "outputId": "998cf226-d655-4d51-853c-b8956b9fb217"
   },
   "execution_count": 41,
   "outputs": [
    {
     "output_type": "stream",
     "name": "stdout",
     "text": [
      "              precision    recall  f1-score   support\n",
      "\n",
      "           0       0.79      0.78      0.78      1000\n",
      "           1       0.98      0.93      0.95      1000\n",
      "           2       0.71      0.73      0.72      1000\n",
      "           3       0.81      0.87      0.84      1000\n",
      "           4       0.71      0.73      0.72      1000\n",
      "           5       0.95      0.90      0.92      1000\n",
      "           6       0.57      0.52      0.55      1000\n",
      "           7       0.89      0.91      0.90      1000\n",
      "           8       0.94      0.95      0.95      1000\n",
      "           9       0.90      0.93      0.92      1000\n",
      "\n",
      "    accuracy                           0.83     10000\n",
      "   macro avg       0.83      0.83      0.82     10000\n",
      "weighted avg       0.83      0.83      0.82     10000\n",
      "\n"
     ]
    },
    {
     "output_type": "display_data",
     "data": {
      "text/plain": [
       "<Figure size 864x576 with 2 Axes>"
      ],
      "image/png": "[encoded data removed]"
     },
     "metadata": {
      "needs_background": "light"
     }
    }
   ],
   "id": "nDHe4Mhg33hf"
  },
  {
   "cell_type": "markdown",
   "source": [
    "The first thing to notice is that all three reports have the same overall accuracy, but the performance for each class is different.\n",
    "\n",
    "Looking at the first report, we can see that most classes have decent precision, recall, and f1-score, with classes 1, 5, 7, 8, and 9 having the highest scores. Classes 0, 2, 4, and 6 have lower scores, with class 6 having the lowest scores.\n",
    "\n",
    "In the second report, we can see that the precision, recall, and f1-score for most classes are very similar to those in the first report, with the exception of class 1, which has a slightly lower recall but a higher precision and f1-score.\n",
    "\n",
    "In the third report, we can see that the precision, recall, and f1-score for most classes are lower than in the first two reports, especially for classes 0, 2, 4, and 6. Class 5 also has a lower recall and f1-score, while classes 1, 3, 7, 8, and 9 have similar scores to the first report.\n",
    "\n",
    "Overall, it seems that the second report has slightly better performance than the first report, with the exception of class 1, which has a slightly lower recall. The third report has lower performance for most classes, especially for classes 0, 2, 4, and 6, which have lower precision, recall, and f1-score."
   ],
   "metadata": {
    "id": "1jfk2iP733hf"
   },
   "id": "1jfk2iP733hf"
  },
  {
   "cell_type": "markdown",
   "source": [
    "Finally, we plot it for the feed-forward model."
   ],
   "metadata": {
    "id": "zH76ikGO33hf"
   },
   "id": "zH76ikGO33hf"
  },
  {
   "cell_type": "code",
   "source": [
    "predicted_labels = predictions_ffnn.cpu().detach().max(axis=1).indices.numpy()\n",
    "\n",
    "cf_matrix = confusion_matrix(actual_labels, predicted_labels)\n",
    "\n",
    "df_cm = pd.DataFrame(cf_matrix / np.sum(cf_matrix) * 10, index=[i for i in classes], columns=[i for i in classes])\n",
    "plt.figure(figsize=(12, 8))\n",
    "sn.heatmap(df_cm, cmap=\"CMRmap_r\", annot=True)\n",
    "\n",
    "print(classification_report(actual_labels, predicted_labels))"
   ],
   "metadata": {
    "jupyter": {
     "outputs_hidden": false
    },
    "execution": {
     "iopub.status.busy": "2023-02-22T19:57:09.208109Z",
     "iopub.execute_input": "2023-02-22T19:57:09.208489Z",
     "iopub.status.idle": "2023-02-22T19:57:10.079265Z",
     "shell.execute_reply.started": "2023-02-22T19:57:09.208453Z",
     "shell.execute_reply": "2023-02-22T19:57:10.078168Z"
    },
    "trusted": true,
    "colab": {
     "base_uri": "https://localhost:8080/",
     "height": 778
    },
    "id": "qIy5eUTq33hf",
    "outputId": "b86bcd6d-241d-4886-f5c2-ab20629c4be0"
   },
   "execution_count": 42,
   "outputs": [
    {
     "output_type": "stream",
     "name": "stdout",
     "text": [
      "              precision    recall  f1-score   support\n",
      "\n",
      "           0       0.84      0.83      0.84      1000\n",
      "           1       0.98      0.98      0.98      1000\n",
      "           2       0.80      0.81      0.81      1000\n",
      "           3       0.89      0.89      0.89      1000\n",
      "           4       0.81      0.82      0.82      1000\n",
      "           5       0.97      0.95      0.96      1000\n",
      "           6       0.72      0.72      0.72      1000\n",
      "           7       0.94      0.95      0.95      1000\n",
      "           8       0.98      0.96      0.97      1000\n",
      "           9       0.95      0.95      0.95      1000\n",
      "\n",
      "    accuracy                           0.89     10000\n",
      "   macro avg       0.89      0.89      0.89     10000\n",
      "weighted avg       0.89      0.89      0.89     10000\n",
      "\n"
     ]
    },
    {
     "output_type": "display_data",
     "data": {
      "text/plain": [
       "<Figure size 864x576 with 2 Axes>"
      ],
      "image/png": "[encoded data removed]"
     },
     "metadata": {
      "needs_background": "light"
     }
    }
   ],
   "id": "qIy5eUTq33hf"
  },
  {
   "cell_type": "markdown",
   "source": [
    "Looking at the precision metric, it can be seen that the model performs well on most of the classes, with precision ranging from 0.71 to 0.98. A precision of 1.0 would indicate that all predictions for that class were correct, while a precision of 0.0 would indicate that all predictions were incorrect. Therefore, higher precision values indicate that the model is making fewer false positive predictions.\n",
    "\n",
    "Recall, on the other hand, measures the proportion of actual positive samples that were correctly identified by the model. The recall scores in this report range from 0.81 to 0.98, indicating that the model is correctly identifying a large proportion of positive samples for most of the classes.\n",
    "\n",
    "The f1-score is the harmonic mean of precision and recall, providing a balanced measure of the model's performance. The f1-scores in this report range from 0.71 to 0.98, with higher values indicating better overall performance.\n",
    "\n",
    "The macro and weighted averages provide an overall view of the model's performance across all classes. The macro average calculates the mean of precision, recall, and f1-score across all classes, giving equal weight to each class. The weighted average, on the other hand, takes into account the number of samples in each class, giving more weight to classes with more samples. In this case, the macro and weighted averages are identical since each class has an equal number of samples.\n",
    "\n",
    "Overall, this report suggests that the model performs well on most classes, with an overall accuracy of 0.89. However, it is important to note that a high accuracy score does not necessarily mean that the model is performing well, as it may be biased towards the majority class. Therefore, it is important to analyze the performance of the model on a per-class basis, as well as to consider other evaluation metrics such as the confusion matrix.\n",
    "\n",
    "As it is obvious, in the FFNN model the accuracy, precision, and F1-score improved in comparison with the linear read-out model."
   ],
   "metadata": {
    "id": "0Qp5OTSx33hf"
   },
   "id": "0Qp5OTSx33hf"
  },
  {
   "cell_type": "markdown",
   "source": [
    "## Visualizing the psychometric curves"
   ],
   "metadata": {
    "id": "hkeWd8jT33hg"
   },
   "id": "hkeWd8jT33hg"
  },
  {
   "cell_type": "markdown",
   "source": [
    "Psychometric curves in deep learning refer to a set of metrics that are used to evaluate the performance of a neural network model in relation to human perception and decision-making. The name \"psychometric\" is derived from the field of psychology, where similar measures are used to evaluate human performance on perceptual and cognitive tasks.\n",
    "In the context of deep learning, psychometric curves are typically used to evaluate the performance of a model in tasks such as image recognition, where the goal is to identify the presence of specific objects or features within an image. These curves typically plot the relationship between the model's performance (e.g. accuracy or sensitivity) and some measure of task difficulty (e.g. level of noise or complexity in the image).\n",
    "\n",
    "The Gaussian noise model is a statistical noise model used to add random noise to input data. It is based on the Gaussian distribution, also known as the normal distribution. The Gaussian distribution is a continuous probability distribution that is symmetrical around its mean, represented by a bell-shaped curve. The Gaussian noise model is characterized by the following formula:\n",
    "\n",
    "$$y = x + N(0,σ^2)$$\n",
    "\n",
    "where y is the noisy input, x is the original input, N(0,σ^2) represents Gaussian noise with mean 0 and variance σ^2. The noise is added element-wise to the input data x\n",
    "\n",
    "To make predictions on noisy input data, we add Gaussian noise to the input vector X and feed the noisy input into the FFNN model. The model then outputs a prediction Y_hat based on the noisy input. The objective is to train the FFNN such that it is robust to the noise in the input and produces accurate predictions despite the added noise.\n",
    "\n",
    "We will now inject some noise in the input images and see how much the representations learned by the DBN and the feed-forward network are robust to perturbations in the sensory signal.\n",
    "Similarly to what happens in psychophysical experiments, this will allow to create a psychometric curve describing the decrease in classification accuracy with respect to the noise level."
   ],
   "metadata": {
    "id": "orCsMSZH33hg"
   },
   "id": "orCsMSZH33hg"
  },
  {
   "cell_type": "markdown",
   "source": [
    "In this section, create a function that adds some Gaussian noise to the MNIST data."
   ],
   "metadata": {
    "id": "_B1WnlU833hg"
   },
   "id": "_B1WnlU833hg"
  },
  {
   "cell_type": "code",
   "source": [
    "def inject_noise(FashionMNIST_data, noise_level):\n",
    "    X_train_noise = FashionMNIST_data + noise_level * np.random.normal(loc=0.0, scale=1.1, size=FashionMNIST_data.shape)\n",
    "    return (X_train_noise.to(device))"
   ],
   "metadata": {
    "jupyter": {
     "outputs_hidden": false
    },
    "execution": {
     "iopub.status.busy": "2023-02-22T20:10:16.761163Z",
     "iopub.execute_input": "2023-02-22T20:10:16.761565Z",
     "iopub.status.idle": "2023-02-22T20:10:16.767339Z",
     "shell.execute_reply.started": "2023-02-22T20:10:16.761529Z",
     "shell.execute_reply": "2023-02-22T20:10:16.766440Z"
    },
    "trusted": true,
    "id": "DRfOLPzt33hg"
   },
   "execution_count": 43,
   "outputs": [],
   "id": "DRfOLPzt33hg"
  },
  {
   "cell_type": "markdown",
   "source": [
    "Here we see what a noisy image looks like:"
   ],
   "metadata": {
    "id": "ZDBSP3Gb33hg"
   },
   "id": "ZDBSP3Gb33hg"
  },
  {
   "cell_type": "code",
   "source": [
    "noise_level = 0.2\n",
    "Fashion_test_with_noise = inject_noise(FashionMNIST_test.data, noise_level)\n",
    "__ = plt.imshow(Fashion_test_with_noise[2].reshape(28, 28).to(\"cpu\"))"
   ],
   "metadata": {
    "jupyter": {
     "outputs_hidden": false
    },
    "execution": {
     "iopub.status.busy": "2023-02-22T20:10:20.507076Z",
     "iopub.execute_input": "2023-02-22T20:10:20.507756Z",
     "iopub.status.idle": "2023-02-22T20:10:21.075377Z",
     "shell.execute_reply.started": "2023-02-22T20:10:20.507710Z",
     "shell.execute_reply": "2023-02-22T20:10:21.074321Z"
    },
    "trusted": true,
    "colab": {
     "base_uri": "https://localhost:8080/",
     "height": 265
    },
    "id": "VXbCmJYk33hh",
    "outputId": "ba9332bb-5ce6-4fdb-9805-2d46c8d21264"
   },
   "execution_count": 44,
   "outputs": [
    {
     "output_type": "display_data",
     "data": {
      "text/plain": [
       "<Figure size 432x288 with 1 Axes>"
      ],
      "image/png": "[encoded data removed]"
     },
     "metadata": {
      "needs_background": "light"
     }
    }
   ],
   "id": "VXbCmJYk33hh"
  },
  {
   "cell_type": "markdown",
   "source": [
    "We will now compute the hidden representations for the noisy images using the DBN. Then, we will use the read-out classifiers that we trained on the representations without noise to classify the noisy images."
   ],
   "metadata": {
    "id": "GljAx1m_33hh"
   },
   "id": "GljAx1m_33hh"
  },
  {
   "cell_type": "code",
   "source": [
    "# This function computes the accuracy of different models on noisy test data.\n",
    "def get_accuracy_values_at_noise_level(noise_level):\n",
    "    # First, we create noisy test images\n",
    "    Fashion_test_with_noise = inject_noise(FashionMNIST_test.data, noise_level)\n",
    "\n",
    "    # Here we compute the DBN representations\n",
    "    hidden_repr_layer_1_noisy = get_kth_layer_repr(Fashion_test_with_noise, 0, device)\n",
    "    hidden_repr_layer_2_noisy = get_kth_layer_repr(hidden_repr_layer_1_noisy, 1, device)\n",
    "    hidden_repr_layer_3_noisy = get_kth_layer_repr(hidden_repr_layer_2_noisy, 2, device)\n",
    "\n",
    "    # Here we use the previously-trained read-out classifiers\n",
    "    predictions_first_hidden_noisy = linear1(hidden_repr_layer_1_noisy)\n",
    "    predictions_second_hidden_noisy = linear2(hidden_repr_layer_2_noisy)\n",
    "    predictions_third_hidden_noisy = linear3(hidden_repr_layer_3_noisy)\n",
    "\n",
    "    accuracy_first_hidden = compute_accuracy(predictions_first_hidden_noisy, FashionMNIST_test.targets.to(device))\n",
    "    accuracy_second_hidden = compute_accuracy(predictions_second_hidden_noisy, FashionMNIST_test.targets.to(device))\n",
    "    accuracy_third_hidden = compute_accuracy(predictions_third_hidden_noisy, FashionMNIST_test.targets.to(device))\n",
    "\n",
    "    # Here we use the previously-trained FFNN classifiers\n",
    "    predictions_ffnn_noisy_data = ffnn(Fashion_test_with_noise)\n",
    "    accuracy_ffnn = compute_accuracy(predictions_ffnn_noisy_data, FashionMNIST_test.targets.to(device))\n",
    "\n",
    "    return accuracy_first_hidden, accuracy_second_hidden, accuracy_third_hidden, accuracy_ffnn"
   ],
   "metadata": {
    "jupyter": {
     "outputs_hidden": false
    },
    "execution": {
     "iopub.status.busy": "2023-02-22T20:12:18.246284Z",
     "iopub.execute_input": "2023-02-22T20:12:18.246974Z",
     "iopub.status.idle": "2023-02-22T20:12:18.256131Z",
     "shell.execute_reply.started": "2023-02-22T20:12:18.246937Z",
     "shell.execute_reply": "2023-02-22T20:12:18.255108Z"
    },
    "trusted": true,
    "id": "nhKSdcYJ33hh"
   },
   "execution_count": 45,
   "outputs": [],
   "id": "nhKSdcYJ33hh"
  },
  {
   "cell_type": "markdown",
   "source": [
    "We check the accuracy of the linear read-out and feed-forward models."
   ],
   "metadata": {
    "id": "BGcOpS5633hh"
   },
   "id": "BGcOpS5633hh"
  },
  {
   "cell_type": "code",
   "source": [
    "acc = get_accuracy_values_at_noise_level(noise_level)\n",
    "print(\"Accuracy of H1 read-out: %.3f\" % acc[0])\n",
    "print(\"Accuracy of H2 read-out: %.3f\" % acc[1])\n",
    "print(\"Accuracy of H2 read-out: %.3f\" % acc[2])\n",
    "print(\"Accuracy of FFNN: %.3f\" % acc[3])"
   ],
   "metadata": {
    "jupyter": {
     "outputs_hidden": false
    },
    "execution": {
     "iopub.status.busy": "2023-02-22T20:12:48.664715Z",
     "iopub.execute_input": "2023-02-22T20:12:48.665079Z",
     "iopub.status.idle": "2023-02-22T20:12:49.032458Z",
     "shell.execute_reply.started": "2023-02-22T20:12:48.665047Z",
     "shell.execute_reply": "2023-02-22T20:12:49.031307Z"
    },
    "trusted": true,
    "colab": {
     "base_uri": "https://localhost:8080/"
    },
    "id": "hyFqmaAU33hh",
    "outputId": "ed3a1bcd-cd8e-4ab6-904b-6352c0e04df8"
   },
   "execution_count": 46,
   "outputs": [
    {
     "output_type": "stream",
     "name": "stdout",
     "text": [
      "Accuracy of H1 read-out: 0.819\n",
      "Accuracy of H2 read-out: 0.832\n",
      "Accuracy of H2 read-out: 0.819\n",
      "Accuracy of FFNN: 0.540\n"
     ]
    }
   ],
   "id": "hyFqmaAU33hh"
  },
  {
   "cell_type": "markdown",
   "source": [
    "Now we create the psychometric curves for the DBN (at different levels of internal representations) and for the feed-forward network."
   ],
   "metadata": {
    "id": "5bkLYfxf33hh"
   },
   "id": "5bkLYfxf33hh"
  },
  {
   "cell_type": "code",
   "source": [
    "def plot_noise_robustness_curves(noise_levels):\n",
    "    accuracy_values_first_hidden = []\n",
    "    accuracy_values_second_hidden = []\n",
    "    accuracy_values_third_hidden = []\n",
    "    accuracy_values_ffnn = []\n",
    "\n",
    "    for noise_level in noise_levels:\n",
    "        acc = get_accuracy_values_at_noise_level(noise_level)\n",
    "        accuracy_values_first_hidden.append(acc[0])\n",
    "        accuracy_values_second_hidden.append(acc[1])\n",
    "        accuracy_values_third_hidden.append(acc[2])\n",
    "        accuracy_values_ffnn.append(acc[3])\n",
    "\n",
    "    fig, ax = plt.subplots()\n",
    "    ax.plot(range(len(noise_levels)), accuracy_values_first_hidden)\n",
    "    ax.plot(range(len(noise_levels)), accuracy_values_second_hidden)\n",
    "    ax.plot(range(len(noise_levels)), accuracy_values_third_hidden)\n",
    "    ax.plot(range(len(noise_levels)), accuracy_values_ffnn)\n",
    "\n",
    "    ax.set_title(\"Robustness to noise\")\n",
    "    ax.set_xlabel(\"Noise level (%)\")\n",
    "    ax.set_ylabel(\"Accuracy\")\n",
    "    plt.xticks(range(len(noise_levels)), [int(l * 100) for l in noise_levels])\n",
    "    plt.legend([\"First hidden\", \"Second hidden\", \"Third hidden\", \"FFNN\"])"
   ],
   "metadata": {
    "jupyter": {
     "outputs_hidden": false
    },
    "execution": {
     "iopub.status.busy": "2023-02-22T20:13:18.552737Z",
     "iopub.execute_input": "2023-02-22T20:13:18.553142Z",
     "iopub.status.idle": "2023-02-22T20:13:18.563833Z",
     "shell.execute_reply.started": "2023-02-22T20:13:18.553109Z",
     "shell.execute_reply": "2023-02-22T20:13:18.562212Z"
    },
    "trusted": true,
    "id": "7YrZzF7E33hi"
   },
   "execution_count": 47,
   "outputs": [],
   "id": "7YrZzF7E33hi"
  },
  {
   "cell_type": "markdown",
   "source": [
    "And finally, we plot the curve of learning by increasing the level of noise."
   ],
   "metadata": {
    "id": "rMeKQt2E33hi"
   },
   "id": "rMeKQt2E33hi"
  },
  {
   "cell_type": "code",
   "source": [
    "noise_levels = [0, 0.1, 0.2, 0.3, 0.4, 0.5, 0.6, 0.7, 0.8, 0.9, 1.0, 1.1, 1.2, 1.3, 1.4, 1.5]\n",
    "plot_noise_robustness_curves(noise_levels)"
   ],
   "metadata": {
    "jupyter": {
     "outputs_hidden": false
    },
    "execution": {
     "iopub.status.busy": "2023-02-22T20:13:23.203334Z",
     "iopub.execute_input": "2023-02-22T20:13:23.203737Z",
     "iopub.status.idle": "2023-02-22T20:13:29.268498Z",
     "shell.execute_reply.started": "2023-02-22T20:13:23.203705Z",
     "shell.execute_reply": "2023-02-22T20:13:29.267462Z"
    },
    "trusted": true,
    "colab": {
     "base_uri": "https://localhost:8080/",
     "height": 295
    },
    "id": "wrmMq5wT33hi",
    "outputId": "2451e695-7b04-402c-f448-0865db20cbef"
   },
   "execution_count": 48,
   "outputs": [
    {
     "output_type": "display_data",
     "data": {
      "text/plain": [
       "<Figure size 432x288 with 1 Axes>"
      ],
      "image/png": "[encoded data removed]"
     },
     "metadata": {
      "needs_background": "light"
     }
    }
   ],
   "id": "wrmMq5wT33hi"
  },
  {
   "cell_type": "markdown",
   "source": [
    "As we can see, when the epsilon is less than 0.1, our FFNN model works the best in comparison to linear read-outs but as we increase the level of noise the FFNN accuracy collapse and it will be highly sensitive when we increase the noise levels. (Accuracy is suddenly diminished by increasing the noise levels)\n",
    "\n",
    "On the other hand, the situation is different with the linear read-out model. In comparison with the FFNN model, it will not be affected very much but as we already know the third hidden layer is more precise so as a result, it is more sustainable against the noise in comparison with the first and second hidden layers."
   ],
   "metadata": {
    "id": "vlprgvkA33hi"
   },
   "id": "vlprgvkA33hi"
  },
  {
   "cell_type": "markdown",
   "source": [
    "## Add some noises and adversarial attacks"
   ],
   "metadata": {
    "id": "tgoEQMoE33hi"
   },
   "id": "tgoEQMoE33hi"
  },
  {
   "cell_type": "markdown",
   "source": [
    "In general, with adversarial attacks we try to modify the input so that the model cannot correctly classify it anymore. This means that the loss for that specific input has to increase.\n",
    "\n",
    "The loss is usually a function of the input, the model's parameters and the outputs: $J(w, x, y)$.\n",
    "\n",
    "When we are training the model, we modify the model's weights based on the value of the gradient of the loss function, using the opposite direction w.r.t. the gradient because we want the loss to decrease. To create an adversarial sample we change two things in this procedure:\n",
    "1. we modify the input instead of the model's weights;\n",
    "2. we go in the same direction as the gradient, since we want the loss function to increase.\n",
    "\n",
    "The adversarial sample will then look like:\n",
    "\n",
    "$\\tilde{x} = x + \\epsilon \\cdot \\text{sign}(\\nabla_{x} J(w, x, y))$"
   ],
   "metadata": {
    "id": "v6scD-u333hi"
   },
   "id": "v6scD-u333hi"
  },
  {
   "cell_type": "markdown",
   "source": [
    "Here we implement a simple FGSM attack."
   ],
   "metadata": {
    "id": "9gckWhgu33hj"
   },
   "id": "9gckWhgu33hj"
  },
  {
   "cell_type": "code",
   "source": [
    "def fgsm_attack(image, epsilon, data_grad):\n",
    "    # Collect the element-wise sign of the data gradient\n",
    "    sign_data_grad = data_grad.sign()\n",
    "\n",
    "    # Create the perturbed image by adjusting each pixel of the input image\n",
    "    perturbed_image = image + epsilon * sign_data_grad\n",
    "\n",
    "    # Adding clipping to maintain [0,1] range\n",
    "    perturbed_image = torch.clamp(perturbed_image, 0, 1)\n",
    "\n",
    "    # Return the perturbed image\n",
    "    return perturbed_image"
   ],
   "metadata": {
    "jupyter": {
     "outputs_hidden": false
    },
    "execution": {
     "iopub.status.busy": "2023-02-22T20:24:47.664486Z",
     "iopub.execute_input": "2023-02-22T20:24:47.665154Z",
     "iopub.status.idle": "2023-02-22T20:24:47.670873Z",
     "shell.execute_reply.started": "2023-02-22T20:24:47.665118Z",
     "shell.execute_reply": "2023-02-22T20:24:47.669597Z"
    },
    "trusted": true,
    "id": "DcxIvcmN33hj"
   },
   "execution_count": 49,
   "outputs": [],
   "id": "DcxIvcmN33hj"
  },
  {
   "cell_type": "markdown",
   "source": [
    "In this section we implement DBN read-out version."
   ],
   "metadata": {
    "id": "mqCVsEER33hj"
   },
   "id": "mqCVsEER33hj"
  },
  {
   "cell_type": "code",
   "source": [
    "class DBNWithReadOut(torch.nn.Module):\n",
    "    def __init__(self, dbn_FashionMNIST, readouts, readout_level=1):\n",
    "        super().__init__()\n",
    "        self.readouts = readouts\n",
    "        self.dbn_FashionMNIST = dbn_FashionMNIST\n",
    "        self._require_grad()\n",
    "        self.readout_level = readout_level\n",
    "\n",
    "    def _require_grad(self):\n",
    "        for rbm in self.dbn_FashionMNIST.rbm_layers:\n",
    "            rbm.W.requires_grad_()\n",
    "            rbm.h_bias.requires_grad_()\n",
    "\n",
    "    def forward(self, image):\n",
    "        \"\"\"This forward pass uses probabilities instead of samples as RBM outputs\n",
    "         to backpropagate the gradient\"\"\"\n",
    "        p_v = image\n",
    "        hidden_states = []\n",
    "        for rbm in self.dbn_FashionMNIST.rbm_layers:\n",
    "            p_v = p_v.view((p_v.shape[0], -1)).type(torch.FloatTensor).to(device)\n",
    "            p_v, v = rbm(p_v)\n",
    "            hidden_states.append(p_v)\n",
    "        return self.readouts[self.readout_level].forward(hidden_states[self.readout_level])"
   ],
   "metadata": {
    "jupyter": {
     "outputs_hidden": false
    },
    "execution": {
     "iopub.status.busy": "2023-02-22T20:26:48.039101Z",
     "iopub.execute_input": "2023-02-22T20:26:48.039492Z",
     "iopub.status.idle": "2023-02-22T20:26:48.047762Z",
     "shell.execute_reply.started": "2023-02-22T20:26:48.039459Z",
     "shell.execute_reply": "2023-02-22T20:26:48.046554Z"
    },
    "trusted": true,
    "id": "bD3u2U_H33hj"
   },
   "execution_count": 89,
   "outputs": [],
   "id": "bD3u2U_H33hj"
  },
  {
   "cell_type": "code",
   "source": [
    "dbn_with_readout = DBNWithReadOut(dbn_FashionMNIST, [linear1, linear2, linear3])"
   ],
   "metadata": {
    "jupyter": {
     "outputs_hidden": false
    },
    "execution": {
     "iopub.status.busy": "2023-02-22T20:26:54.833027Z",
     "iopub.execute_input": "2023-02-22T20:26:54.833382Z",
     "iopub.status.idle": "2023-02-22T20:26:54.838549Z",
     "shell.execute_reply.started": "2023-02-22T20:26:54.833346Z",
     "shell.execute_reply": "2023-02-22T20:26:54.837613Z"
    },
    "trusted": true,
    "id": "bHiG5bBp33hj"
   },
   "execution_count": 90,
   "outputs": [],
   "id": "bHiG5bBp33hj"
  },
  {
   "cell_type": "markdown",
   "source": [
    "Here we see what an adversiarial sample looks like. Let't take one sample from the test set:"
   ],
   "metadata": {
    "id": "ren1ePOd33hj"
   },
   "id": "ren1ePOd33hj"
  },
  {
   "cell_type": "code",
   "source": [
    "test_sample_idx = 13\n",
    "test_image = FashionMNIST_test.data[test_sample_idx].reshape(1, 784)\n",
    "print('True label for the test sample is: ' + str(FashionMNIST_test.targets[test_sample_idx]))\n",
    "__ = plt.imshow(test_image.reshape(28, 28).to('cpu'))"
   ],
   "metadata": {
    "jupyter": {
     "outputs_hidden": false
    },
    "execution": {
     "iopub.status.busy": "2023-02-22T20:34:43.695712Z",
     "iopub.execute_input": "2023-02-22T20:34:43.696070Z",
     "iopub.status.idle": "2023-02-22T20:34:43.904902Z",
     "shell.execute_reply.started": "2023-02-22T20:34:43.696039Z",
     "shell.execute_reply": "2023-02-22T20:34:43.903835Z"
    },
    "trusted": true,
    "colab": {
     "base_uri": "https://localhost:8080/",
     "height": 282
    },
    "id": "QZeIrzkx33hj",
    "outputId": "99624ffc-0b9e-4fb4-f69e-b5e87e609a9e"
   },
   "execution_count": 122,
   "outputs": [
    {
     "output_type": "stream",
     "name": "stdout",
     "text": [
      "True label for the test sample is: tensor(3)\n"
     ]
    },
    {
     "output_type": "display_data",
     "data": {
      "text/plain": [
       "<Figure size 432x288 with 1 Axes>"
      ],
      "image/png": "[encoded data removed]"
     },
     "metadata": {
      "needs_background": "light"
     }
    }
   ],
   "id": "QZeIrzkx33hj"
  },
  {
   "cell_type": "markdown",
   "source": [
    "Here we classify this \"clean\" image using one of the models we previously trained and then modify the image to attack the network.\n",
    "\n",
    "To change the model we attack, you can modify the value of the model variable in the cell below."
   ],
   "metadata": {
    "id": "pBblHu7z33hk"
   },
   "id": "pBblHu7z33hk"
  },
  {
   "cell_type": "code",
   "source": [
    "attacked_model = ffnn"
   ],
   "metadata": {
    "jupyter": {
     "outputs_hidden": false
    },
    "execution": {
     "iopub.status.busy": "2023-02-22T20:29:14.666068Z",
     "iopub.execute_input": "2023-02-22T20:29:14.666453Z",
     "iopub.status.idle": "2023-02-22T20:29:14.671122Z",
     "shell.execute_reply.started": "2023-02-22T20:29:14.666410Z",
     "shell.execute_reply": "2023-02-22T20:29:14.670059Z"
    },
    "trusted": true,
    "id": "hRbBN8WZ33hk"
   },
   "execution_count": 123,
   "outputs": [],
   "id": "hRbBN8WZ33hk"
  },
  {
   "cell_type": "code",
   "source": [
    "test_image.requires_grad_()\n",
    "model_outputs = attacked_model(test_image.to(device))\n",
    "prediction = torch.argmax(model_outputs)\n",
    "print(f\"The prediction of the model for this clean sample is {prediction}.\")"
   ],
   "metadata": {
    "jupyter": {
     "outputs_hidden": false
    },
    "execution": {
     "iopub.status.busy": "2023-02-22T20:29:47.577225Z",
     "iopub.execute_input": "2023-02-22T20:29:47.577590Z",
     "iopub.status.idle": "2023-02-22T20:29:47.593703Z",
     "shell.execute_reply.started": "2023-02-22T20:29:47.577559Z",
     "shell.execute_reply": "2023-02-22T20:29:47.592451Z"
    },
    "trusted": true,
    "colab": {
     "base_uri": "https://localhost:8080/"
    },
    "id": "kW9TZPXt33hk",
    "outputId": "42038430-a06d-442e-b4a2-0e7b63fcdba2"
   },
   "execution_count": 124,
   "outputs": [
    {
     "output_type": "stream",
     "name": "stdout",
     "text": [
      "The prediction of the model for this clean sample is 3.\n"
     ]
    }
   ],
   "id": "kW9TZPXt33hk"
  },
  {
   "cell_type": "markdown",
   "source": [
    "In this section, we configure the attack and noising settings"
   ],
   "metadata": {
    "id": "17dXGt_G33hk"
   },
   "id": "17dXGt_G33hk"
  },
  {
   "cell_type": "code",
   "source": [
    "# We define strenght of the attack\n",
    "epsilon = 0.1\n",
    "\n",
    "# Getting the ground truth label for that image\n",
    "test_image_label = FashionMNIST_test.targets[test_sample_idx].unsqueeze(0)\n",
    "\n",
    "# Getting the loss value\n",
    "loss_value = torch.nn.functional.cross_entropy(model_outputs.to(device), test_image_label.to(device))\n",
    "attacked_model.zero_grad()\n",
    "loss_value.backward()\n",
    "\n",
    "# Getting the gradient of the pixels w.r.t. the loss\n",
    "image_grad = test_image.grad.data\n",
    "perturbed_image = fgsm_attack(test_image, epsilon, image_grad)\n",
    "\n",
    "perturbed_image_np = perturbed_image.detach().to('cpu').numpy()\n",
    "__ = plt.imshow(perturbed_image_np.reshape(28,28))"
   ],
   "metadata": {
    "jupyter": {
     "outputs_hidden": false
    },
    "execution": {
     "iopub.status.busy": "2023-02-22T20:43:57.732914Z",
     "iopub.execute_input": "2023-02-22T20:43:57.733344Z",
     "iopub.status.idle": "2023-02-22T20:43:57.774784Z",
     "shell.execute_reply.started": "2023-02-22T20:43:57.733304Z",
     "shell.execute_reply": "2023-02-22T20:43:57.772469Z"
    },
    "trusted": true,
    "colab": {
     "base_uri": "https://localhost:8080/",
     "height": 265
    },
    "id": "cCvFuvzz33hk",
    "outputId": "2ce0ddae-11ff-4bc2-b9ca-28d98007dcb9"
   },
   "execution_count": 125,
   "outputs": [
    {
     "output_type": "display_data",
     "data": {
      "text/plain": [
       "<Figure size 432x288 with 1 Axes>"
      ],
      "image/png": "[encoded data removed]"
     },
     "metadata": {
      "needs_background": "light"
     }
    }
   ],
   "id": "cCvFuvzz33hk"
  },
  {
   "cell_type": "markdown",
   "source": [
    "We check the prediction result here:"
   ],
   "metadata": {
    "id": "SaeqYZvn33hk"
   },
   "id": "SaeqYZvn33hk"
  },
  {
   "cell_type": "code",
   "source": [
    "model_outputs = attacked_model(perturbed_image.to(device).view((perturbed_image.shape[0], -1)))\n",
    "print(f\"The prediction of the model for the perturbed sample is {torch.argmax(model_outputs)}.\")"
   ],
   "metadata": {
    "jupyter": {
     "outputs_hidden": false
    },
    "colab": {
     "base_uri": "https://localhost:8080/"
    },
    "id": "_49u2DGA33hl",
    "outputId": "52b17a4a-906c-45bb-c97d-8a4f051f2514"
   },
   "execution_count": 126,
   "outputs": [
    {
     "output_type": "stream",
     "name": "stdout",
     "text": [
      "The prediction of the model for the perturbed sample is 1.\n"
     ]
    }
   ],
   "id": "_49u2DGA33hl"
  },
  {
   "cell_type": "markdown",
   "source": [
    "We can observe that the algorithm is confused and make the prediction wrong. (Actual label is 3 but the prediction is 1). So we can see that the FFNN model is confused with the attack."
   ],
   "metadata": {
    "id": "-tnaTA4533hl"
   },
   "id": "-tnaTA4533hl"
  },
  {
   "cell_type": "markdown",
   "source": [
    "Here we do the exact thing for the DBN with read out to compare the result with the FFNN model."
   ],
   "metadata": {
    "id": "x3YyWjpUIN_-"
   },
   "id": "x3YyWjpUIN_-"
  },
  {
   "cell_type": "code",
   "source": [
    "attacked_model = dbn_with_readout"
   ],
   "metadata": {
    "id": "wb_M50Ft-UXV"
   },
   "id": "wb_M50Ft-UXV",
   "execution_count": 127,
   "outputs": []
  },
  {
   "cell_type": "code",
   "source": [
    "test_image.requires_grad_()\n",
    "model_outputs = attacked_model(test_image.to(device))\n",
    "prediction = torch.argmax(model_outputs)\n",
    "print(f\"The prediction of the model for this clean sample is {prediction}.\")"
   ],
   "metadata": {
    "colab": {
     "base_uri": "https://localhost:8080/"
    },
    "id": "qlnmDj_4-h1q",
    "outputId": "34bd138a-82cc-434c-9a19-5d50e021b817"
   },
   "id": "qlnmDj_4-h1q",
   "execution_count": 128,
   "outputs": [
    {
     "output_type": "stream",
     "name": "stdout",
     "text": [
      "The prediction of the model for this clean sample is 3.\n"
     ]
    }
   ]
  },
  {
   "cell_type": "code",
   "source": [
    "# We define strenght of the attack\n",
    "epsilon = 0.1\n",
    "\n",
    "# Getting the ground truth label for that image\n",
    "test_image_label = FashionMNIST_test.targets[test_sample_idx].unsqueeze(0)\n",
    "\n",
    "# Getting the loss value\n",
    "loss_value = torch.nn.functional.cross_entropy(model_outputs.to(device), test_image_label.to(device))\n",
    "attacked_model.zero_grad()\n",
    "loss_value.backward()\n",
    "\n",
    "# Getting the gradient of the pixels w.r.t. the loss\n",
    "image_grad = test_image.grad.data\n",
    "perturbed_image = fgsm_attack(test_image, epsilon, image_grad)\n",
    "\n",
    "perturbed_image_np = perturbed_image.detach().to('cpu').numpy()\n",
    "__ = plt.imshow(perturbed_image_np.reshape(28,28))"
   ],
   "metadata": {
    "colab": {
     "base_uri": "https://localhost:8080/",
     "height": 265
    },
    "id": "8VmABSur-kYf",
    "outputId": "7c04ec57-a43b-45c1-ba8c-fcbb753d7974"
   },
   "id": "8VmABSur-kYf",
   "execution_count": 129,
   "outputs": [
    {
     "output_type": "display_data",
     "data": {
      "text/plain": [
       "<Figure size 432x288 with 1 Axes>"
      ],
      "image/png": "[encoded data removed]"
     },
     "metadata": {
      "needs_background": "light"
     }
    }
   ]
  },
  {
   "cell_type": "code",
   "source": [
    "model_outputs = attacked_model(perturbed_image.to(device).view((perturbed_image.shape[0], -1)))\n",
    "print(f\"The prediction of the model for the perturbed sample is {torch.argmax(model_outputs)}.\")"
   ],
   "metadata": {
    "colab": {
     "base_uri": "https://localhost:8080/"
    },
    "id": "3GC1NZy_-m32",
    "outputId": "3e930696-2af2-4b34-edfb-66cdf2755baf"
   },
   "id": "3GC1NZy_-m32",
   "execution_count": 130,
   "outputs": [
    {
     "output_type": "stream",
     "name": "stdout",
     "text": [
      "The prediction of the model for the perturbed sample is 3.\n"
     ]
    }
   ]
  },
  {
   "cell_type": "markdown",
   "source": [
    "As we can see despite the same noise (epsilon = 0.1) we inject, the DBN model with read out predict the label of noisy image truly."
   ],
   "metadata": {
    "id": "Ae9SCfHrIquz"
   },
   "id": "Ae9SCfHrIquz"
  },
  {
   "cell_type": "markdown",
   "source": [
    "## Resisting to adversarial attacks"
   ],
   "metadata": {
    "id": "1_yTEqFW33hl"
   },
   "id": "1_yTEqFW33hl"
  },
  {
   "cell_type": "markdown",
   "source": [
    "Let's now compare the ability to resist adversarial attacks of our models: the feedforward network, DBN and, top down DBN.\n",
    "\n",
    "We will also test the ability of the DBN to reduce the impact of the attack by performing one \"top-down\" reconstruction step, from the hidden representation of the last layer to the visible units, and back to the hidden representation."
   ],
   "metadata": {
    "id": "HfwWeyav33hl"
   },
   "id": "HfwWeyav33hl"
  },
  {
   "cell_type": "code",
   "source": [
    "def test_robustness_to_attack(model, device, test_loader, epsilon, num_steps=0, verbose=True):\n",
    "    correct = 0\n",
    "    print_reconstruction = num_steps > 0\n",
    "\n",
    "    for data, target in tqdm(test_loader):\n",
    "        data, target = data.to(device), target.to(device)\n",
    "        data = data.reshape(-1, 784)\n",
    "        data.requires_grad = True\n",
    "\n",
    "        output = model.forward(data)\n",
    "\n",
    "        init_pred = torch.argmax(output)\n",
    "\n",
    "        if (print_reconstruction and verbose):\n",
    "            print(\"\\nHere's the original sample:\\n\")\n",
    "            plt.imshow(data[0].detach().to('cpu').numpy().reshape(28, 28))\n",
    "            plt.show()\n",
    "\n",
    "        loss = nn.functional.nll_loss(output, target)\n",
    "        model.zero_grad()\n",
    "        loss.backward()\n",
    "        # Collect the gradient of the input data\n",
    "        data_grad = data.grad.data\n",
    "        perturbed_data = fgsm_attack(data, epsilon, data_grad)\n",
    "\n",
    "        if (print_reconstruction and verbose):\n",
    "            print(\"\\nHere's a perturbed sample:\\n\")\n",
    "            plt.imshow(perturbed_data[0].detach().to('cpu').numpy().reshape(28, 28))\n",
    "            plt.show()\n",
    "\n",
    "        # If requested, reconstruct the input iterating forward-backward dynamics\n",
    "        if num_steps > 0:\n",
    "            for __ in range(0, num_steps):\n",
    "                perturbed_data, __ = model.dbn_FashionMNIST.reconstruct(perturbed_data)\n",
    "            if (print_reconstruction and verbose):\n",
    "                print(f\"\\nHere's what a {num_steps}-steps reconstructed sample looks like:\\n\")\n",
    "                plt.imshow(perturbed_data[0].detach().to('cpu').numpy().reshape(28, 28))\n",
    "                plt.show()\n",
    "                print_reconstruction = False\n",
    "\n",
    "        # Re-classify the perturbed image\n",
    "        output = model(perturbed_data)\n",
    "\n",
    "        # Check for success\n",
    "        # Get the index of the max element in the output\n",
    "        final_pred = output.max(1, keepdim=True)[1]\n",
    "        final_pred = output.argmax(-1)\n",
    "        correct += (final_pred == target).sum()\n",
    "\n",
    "    # Calculate final accuracy for this epsilon\n",
    "    final_acc = correct / float(len(test_loader.sampler))\n",
    "    print(\"\\nEpsilon: {}\\nTest Accuracy: {:.2f}%\\n\".format(epsilon, final_acc * 100))\n",
    "\n",
    "    return final_acc.item()"
   ],
   "metadata": {
    "jupyter": {
     "outputs_hidden": false
    },
    "id": "Nm1mrmoV33hl"
   },
   "execution_count": 57,
   "outputs": [],
   "id": "Nm1mrmoV33hl"
  },
  {
   "cell_type": "code",
   "source": [
    "test_loader = torch.utils.data.DataLoader(\n",
    "    tv.datasets.FashionMNIST('data/', train=False, download=False,\n",
    "                             transform=tv.transforms.Compose([tv.transforms.ToTensor()])),\n",
    "    batch_size=100, shuffle=True)"
   ],
   "metadata": {
    "jupyter": {
     "outputs_hidden": false
    },
    "id": "0sDxmVto33hm"
   },
   "execution_count": 58,
   "outputs": [],
   "id": "0sDxmVto33hm"
  },
  {
   "cell_type": "code",
   "source": [
    "final_acc1 = test_robustness_to_attack(ffnn, device, test_loader, epsilon=0.05, num_steps=0)"
   ],
   "metadata": {
    "jupyter": {
     "outputs_hidden": false
    },
    "colab": {
     "base_uri": "https://localhost:8080/"
    },
    "id": "mdQ1_1ks33hm",
    "outputId": "22d7bded-6414-47ca-cf8b-f452acbb2cd0"
   },
   "execution_count": 59,
   "outputs": [
    {
     "output_type": "stream",
     "name": "stderr",
     "text": [
      "100%|██████████| 100/100 [00:01<00:00, 85.14it/s]"
     ]
    },
    {
     "output_type": "stream",
     "name": "stdout",
     "text": [
      "\n",
      "Epsilon: 0.05\n",
      "Test Accuracy: 3.08%\n",
      "\n"
     ]
    },
    {
     "output_type": "stream",
     "name": "stderr",
     "text": [
      "\n"
     ]
    }
   ],
   "id": "mdQ1_1ks33hm"
  },
  {
   "cell_type": "code",
   "source": [
    "final_acc2 = test_robustness_to_attack(dbn_with_readout, device, test_loader, epsilon=0.05, num_steps=0)"
   ],
   "metadata": {
    "jupyter": {
     "outputs_hidden": false
    },
    "colab": {
     "base_uri": "https://localhost:8080/"
    },
    "id": "Gx41-UE133hm",
    "outputId": "a897191b-0e23-4c6b-cf20-c404a27bf134"
   },
   "execution_count": 60,
   "outputs": [
    {
     "output_type": "stream",
     "name": "stderr",
     "text": [
      "100%|██████████| 100/100 [00:01<00:00, 77.64it/s]"
     ]
    },
    {
     "output_type": "stream",
     "name": "stdout",
     "text": [
      "\n",
      "Epsilon: 0.05\n",
      "Test Accuracy: 68.53%\n",
      "\n"
     ]
    },
    {
     "output_type": "stream",
     "name": "stderr",
     "text": [
      "\n"
     ]
    }
   ],
   "id": "Gx41-UE133hm"
  },
  {
   "cell_type": "code",
   "source": [
    "final_acc2 = test_robustness_to_attack(dbn_with_readout, device, test_loader, epsilon=0.05, num_steps=1)"
   ],
   "metadata": {
    "jupyter": {
     "outputs_hidden": false
    },
    "colab": {
     "base_uri": "https://localhost:8080/",
     "height": 1000
    },
    "id": "LPvLwl1f33hm",
    "outputId": "2ef3016d-3c24-44e2-cebf-a2bf3ec796da"
   },
   "execution_count": 61,
   "outputs": [
    {
     "output_type": "stream",
     "name": "stderr",
     "text": [
      "\r  0%|          | 0/100 [00:00<?, ?it/s]"
     ]
    },
    {
     "output_type": "stream",
     "name": "stdout",
     "text": [
      "\n",
      "Here's the original sample:\n",
      "\n"
     ]
    },
    {
     "output_type": "display_data",
     "data": {
      "text/plain": [
       "<Figure size 432x288 with 1 Axes>"
      ],
      "image/png": "[encoded data removed]"
     },
     "metadata": {
      "needs_background": "light"
     }
    },
    {
     "output_type": "stream",
     "name": "stdout",
     "text": [
      "\n",
      "Here's a perturbed sample:\n",
      "\n"
     ]
    },
    {
     "output_type": "display_data",
     "data": {
      "text/plain": [
       "<Figure size 432x288 with 1 Axes>"
      ],
      "image/png": "[encoded data removed]"
     },
     "metadata": {
      "needs_background": "light"
     }
    },
    {
     "output_type": "stream",
     "name": "stdout",
     "text": [
      "\n",
      "Here's what a 1-steps reconstructed sample looks like:\n",
      "\n"
     ]
    },
    {
     "output_type": "display_data",
     "data": {
      "text/plain": [
       "<Figure size 432x288 with 1 Axes>"
      ],
      "image/png": "[encoded data removed]"
     },
     "metadata": {
      "needs_background": "light"
     }
    },
    {
     "output_type": "stream",
     "name": "stderr",
     "text": [
      "100%|██████████| 100/100 [00:01<00:00, 51.82it/s]"
     ]
    },
    {
     "output_type": "stream",
     "name": "stdout",
     "text": [
      "\n",
      "Epsilon: 0.05\n",
      "Test Accuracy: 66.16%\n",
      "\n"
     ]
    },
    {
     "output_type": "stream",
     "name": "stderr",
     "text": [
      "\n"
     ]
    }
   ],
   "id": "LPvLwl1f33hm"
  },
  {
   "cell_type": "code",
   "source": [
    "epsilon_values = [0, 0.1, 0.2, 0.3, 0.4, 0.5]\n",
    "\n",
    "\n",
    "def test_epsilon_values_effect(model, n_steps):\n",
    "    accuracies = list()\n",
    "\n",
    "    for eps in epsilon_values:\n",
    "        acc = test_robustness_to_attack(model, device, test_loader, eps, num_steps=n_steps, verbose=False)\n",
    "        accuracies.append(acc)\n",
    "\n",
    "    return accuracies"
   ],
   "metadata": {
    "jupyter": {
     "outputs_hidden": false
    },
    "id": "pxhH7iMV33hm"
   },
   "execution_count": 62,
   "outputs": [],
   "id": "pxhH7iMV33hm"
  },
  {
   "cell_type": "code",
   "source": [
    "%%capture\n",
    "accuracies_ffnn = test_epsilon_values_effect(ffnn, n_steps=0)\n",
    "accuracies_dbn_0 = test_epsilon_values_effect(dbn_with_readout, n_steps=0)\n",
    "accuracies_dbn_1 = test_epsilon_values_effect(dbn_with_readout, n_steps=1)"
   ],
   "metadata": {
    "jupyter": {
     "outputs_hidden": false
    },
    "id": "6dhjCYxP33hm"
   },
   "execution_count": 63,
   "outputs": [],
   "id": "6dhjCYxP33hm"
  },
  {
   "cell_type": "code",
   "source": [
    "fig, ax = plt.subplots(1, 1, figsize=(9, 7), sharey=True)\n",
    "\n",
    "__ = ax.axhline(0.1, color='gray', linestyle=':')\n",
    "__ = ax.plot(epsilon_values, accuracies_ffnn)\n",
    "__ = ax.plot(epsilon_values, accuracies_dbn_0)\n",
    "__ = ax.plot(epsilon_values, accuracies_dbn_1)\n",
    "__ = ax.set_xlabel(\"Strength of adversarial attack ($\\epsilon$)\")\n",
    "__ = ax.set_ylabel(\"Accuracy\")\n",
    "__ = ax.set_title(\"Robustness to adversarial attacks\", {'fontsize': 15})\n",
    "__ = ax.legend([\"Chance level\", \"FFNN\", \"DBN\", \"DBN top-down\"])"
   ],
   "metadata": {
    "jupyter": {
     "outputs_hidden": false
    },
    "colab": {
     "base_uri": "https://localhost:8080/",
     "height": 464
    },
    "id": "oMfmZXA433hm",
    "outputId": "3950a3ba-cab5-424d-f24f-9915fd564a8f"
   },
   "execution_count": 64,
   "outputs": [
    {
     "output_type": "display_data",
     "data": {
      "text/plain": [
       "<Figure size 648x504 with 1 Axes>"
      ],
      "image/png": "[encoded data removed]"
     },
     "metadata": {
      "needs_background": "light"
     }
    }
   ],
   "id": "oMfmZXA433hm"
  },
  {
   "cell_type": "markdown",
   "source": [
    "As a result, robustness to adversarial attacks in the DBN system is much better than the FFNN model and it can resist better against attacks even if we use an array of epsilons and increase the strength of attack."
   ],
   "metadata": {
    "id": "DmUnAMre33hn"
   },
   "id": "DmUnAMre33hn"
  },
  {
   "cell_type": "markdown",
   "source": [
    "## Final conclusion\n",
    "\n",
    "The FFNN model as a supervised system could be better than the linear read-out DBN in terms of prediction of the clean images, but in terms of resistance to the noise and attack, the DBN approach has a much better result and can resist against attacks much better."
   ],
   "metadata": {
    "id": "wO6TBiRQ33hn"
   },
   "id": "wO6TBiRQ33hn"
  }
 ]
}
